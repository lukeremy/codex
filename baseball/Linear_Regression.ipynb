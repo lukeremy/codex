{
 "cells": [
  {
   "cell_type": "markdown",
   "metadata": {},
   "source": [
    "# Linear Regression\n",
    "\n",
    "\n",
    "> _\"Baseball statistics are like a girl in a bikini. They show a lot, but not everything.\"_   \n",
    "    \n",
    "> [- Toby Harrah, former MLB baseball player](http://www.baseball-reference.com/players/h/harrato01.shtml)\n",
    "\n",
    "<div style=\"align: center; text-align:center;\">\n",
    "    <img src=img/scorecard.jpg height=\"300px\" width=\"500px\" />\n",
    "</div>"
   ]
  },
  {
   "cell_type": "markdown",
   "metadata": {},
   "source": [
    "---\n",
    "\n",
    "## Overview\n",
    "\n",
    "In this notebook, I demonstrate usage of both univariate and multivariate linear regression (in Python) as a means for predicting specific outcomes -- specifically, __I examine how we can use various baseball metrics to predict the number of wins Major League Baseball (MLB) teams attain over the course of a 162-game season__.   \n",
    "\n",
    "_As a disclaimer, this notebook is intended to demonstrate principles of linear regression in a baseball setting; it is not intended as a rigorous analysis of the ideal predictors to use in constructing a successful baseball team :)_"
   ]
  },
  {
   "cell_type": "markdown",
   "metadata": {
    "collapsed": true
   },
   "source": [
    "---\n",
    "\n",
    "## Context\n",
    "\n",
    "The MLB has existed since 1869. Over the ~150 years since then, MLB general managers and statisticians have developed a vast assortment of metrics in an attempt to build baseball rosters with higher chances of succeeding.\n",
    "\n",
    "### Historical baseball analysis: Five tools\n",
    "\n",
    "Historically, baseball talent scouts have relied on the <a href=\"https://en.wikipedia.org/wiki/Glossary_of_baseball_(0%E2%80%939)#5-tool_player\" target=\"_blank\">__ _five tools_ __</a> that positional baseball players (i.e., all players who are not pitchers) are said to possess as a measure of a player's ability. Those five tools include:   \n",
    "- batting for average   \n",
    "- batting for power  \n",
    "- speed  \n",
    "- defense with glove  \n",
    "- defense with arm  \n",
    "\n",
    "The higher a player ranks on each of these five tools, the more valuable you would expect that player to be to his team. The five tools are typically only applied to positional players, and are not commonly used to evaluate pitchers.\n",
    "\n",
    "\n",
    "\n",
    "\n",
    "<div style=\"align: center; text-align:center;\">\n",
    "    <img src=img/kengriffey.png height=\"400px\" width=\"400px\" />\n",
    "    <div class=\"caption\" >_Ken Griffey Jr: The Ultimate 5-Tool Player_</div>\n",
    "</div>\n",
    "\n",
    "### Current baseball analysis: WAR\n",
    "\n",
    "With recent advances in statistical techniques and the availability of robust baseball datasets (such as the [Lahman database](http://www.seanlahman.com/baseball-archive/statistics/)), statisticians have developed several metrics, or \"<a href=\"http://sabr.org/sabermetrics\" target=\"_blank\">_sabermetrics_</a>,\" to better quantify the game of baseball. __Wins above replacement__ (WAR) and is one of the most popular sabermetrics. According to <a href=\"http://www.espn.com/blog/sweetspot/post/_/id/27050/what-we-talk-about-when-we-talk-about-war\" target=\"_blank\">ESPN</a>:\n",
    "\n",
    "> It [WAR] attempts to evaluate a player's total contribution -- batting, fielding, baserunning, pitching -- to his team. It is expressed in terms of wins over the perceived value of a replacement-level player at each position, essentially a Triple-A player. (A team of replacement-level players would be expected to win about 50 games.)\n",
    "\n",
    "In other words, a team composed of players with high-WAR values should be expected to attain more wins in a season than a team composed of players with low-WAR values. \n",
    "\n",
    "_Although WAR is calculated separately for positional players and pitchers; I focus on WAR for positional players in this notebook._    \n",
    "  \n",
    "<div style=\"align: center; text-align:center;\">\n",
    "    <img src=img/moneyball.jpg height=\"600px\" width=\"200px\" />\n",
    "    <div class=\"caption\" >_Moneyball -- both the book and the movie -- helped popularize sabermetrics_</div>\n",
    "</div>\n",
    "\n",
    " "
   ]
  },
  {
   "cell_type": "markdown",
   "metadata": {},
   "source": [
    "---\n",
    "\n",
    "## Method\n",
    "\n",
    "Linear regression is a common technique used for predicting continuous variables. _Univariate_ linear regression refers to regression models with only one predictor variable, whereas _multivariate_ linear regression refers to regression models with several predictor variables. I will compare a univariate regression model with one predictor, WAR, to a multivariate regression model with several predictors serving as proxies for the five tools listed above.\n",
    "\n",
    "Because the five tools are typically only applied to positional players (and not pitchers), I  purposefully excluded pitching WAR from my univariate analysis.\n",
    "\n",
    "### Data\n",
    "\n",
    "Data for this analysis include data from the <a href=\"http://www.seanlahman.com/baseball-archive/statistics/\" target=\"_blank\">Lahman database</a> and <a href=\"http://www.fangraphs.com/\" target=\"_blank\">fangraphs.com</a>, and were cleaned and prepared in another notebook; please see [this notebook](INSERT LINK TO NOTEBOOK) for more information on how the variables listed below were collected.\n",
    "\n",
    "In the dataset, each row represents a single team over one season of play. There are 30 MLB teams represented in the dataset ranging 31 years from 1986 - 2015.  \n",
    "\n",
    "##### Outcome variable\n",
    "\n",
    "Possible outcomes to consider for this analysis include whether or not a team made the playoffs and whether or not a team wins the World Series (i.e., MLB championship), but these are both binary (e.g., Yes/No) variables that would be best suited for a logistic regression model. I used number of wins as my outcome variable, since this is a continuous variable suited for linear regression.\n",
    "\n",
    "* __Wins__: _the number of wins a specific MLB team attained in a given season_  \n",
    "\n",
    "##### Predictor variables  \n",
    "_Univariate analysis_: \n",
    "* __WAR__: the cumulative offensive and defensive WAR attained by a single team in a given season (does not include pitching WAR) \n",
    "\n",
    "_Multivariate analysis_:  \n",
    "* __AVG__ (batting for average): _average hits per at bat_ (e.g., a .300 AVG means a team averaged 3 hits for every 10 at bats)  \n",
    "* __ISO__ (batting for power): _isolated slugging percentage_, described by <a href=\"http://www.fangraphs.com/library/offense/iso\" target=\"_blank\">Fangraphs</a> as a \"_measure of a hitter’s raw power_\"\n",
    "* __Spd__ (speed): _speed score_, described by <a href=\"http://www.fangraphs.com/library/offense/spd/\" target=\"_blank\">Fangraphs</a> as a rating of players on their \"speed and baserunning ability\" \n",
    "- __Def__ (defense with glove, defense with arm): _defensive runs above average_, a composite stat from <a href=\"http://www.fangraphs.com/library/defense/def/\" target=\"_blank\">Fangraphs</a> that assigns a single numerical value to player's defensive skills; I use this stat to represent both of the defensive five tools.\n",
    "\n"
   ]
  },
  {
   "cell_type": "markdown",
   "metadata": {},
   "source": [
    "--- \n",
    "\n",
    "## Analysis & Code"
   ]
  },
  {
   "cell_type": "markdown",
   "metadata": {},
   "source": [
    "#### Library & data import"
   ]
  },
  {
   "cell_type": "markdown",
   "metadata": {},
   "source": [
    "I used the <a href=\"http://scikit-learn.org/\" target=\"_blank\">`scikit-learn`</a> library for my regression modeling. Import this and other data analysis / visualization libraries first."
   ]
  },
  {
   "cell_type": "code",
   "execution_count": 82,
   "metadata": {
    "collapsed": false
   },
   "outputs": [],
   "source": [
    "import numpy as np\n",
    "import pandas as pd\n",
    "import matplotlib.pyplot as plt\n",
    "import seaborn as sns\n",
    "\n",
    "# allows me to view plots in jupyter notebook\n",
    "%matplotlib inline    "
   ]
  },
  {
   "cell_type": "code",
   "execution_count": 83,
   "metadata": {
    "collapsed": false
   },
   "outputs": [],
   "source": [
    "from sklearn.cross_validation import train_test_split\n",
    "from sklearn.linear_model import LinearRegression\n",
    "from sklearn import metrics"
   ]
  },
  {
   "cell_type": "markdown",
   "metadata": {},
   "source": [
    "Import and examine the data, which was prepared in another [Jupyter notebook](INSERT LINK HERE)."
   ]
  },
  {
   "cell_type": "code",
   "execution_count": 84,
   "metadata": {
    "collapsed": false
   },
   "outputs": [],
   "source": [
    "five = pd.read_csv('data/five_reg.csv')"
   ]
  },
  {
   "cell_type": "code",
   "execution_count": 85,
   "metadata": {
    "collapsed": false
   },
   "outputs": [
    {
     "data": {
      "text/html": [
       "<div>\n",
       "<table border=\"1\" class=\"dataframe\">\n",
       "  <thead>\n",
       "    <tr style=\"text-align: right;\">\n",
       "      <th></th>\n",
       "      <th>Year</th>\n",
       "      <th>Team</th>\n",
       "      <th>AVG</th>\n",
       "      <th>ISO</th>\n",
       "      <th>WAR</th>\n",
       "      <th>Spd</th>\n",
       "      <th>Def</th>\n",
       "      <th>lgID</th>\n",
       "      <th>W</th>\n",
       "      <th>L</th>\n",
       "      <th>DivWin</th>\n",
       "      <th>WCWin</th>\n",
       "      <th>LgWin</th>\n",
       "      <th>WSWin</th>\n",
       "      <th>playoffs</th>\n",
       "    </tr>\n",
       "  </thead>\n",
       "  <tbody>\n",
       "    <tr>\n",
       "      <th>0</th>\n",
       "      <td>1996</td>\n",
       "      <td>Mariners</td>\n",
       "      <td>0.287</td>\n",
       "      <td>0.197</td>\n",
       "      <td>37.1</td>\n",
       "      <td>4.4</td>\n",
       "      <td>33.1</td>\n",
       "      <td>AL</td>\n",
       "      <td>85</td>\n",
       "      <td>76</td>\n",
       "      <td>N</td>\n",
       "      <td>N</td>\n",
       "      <td>N</td>\n",
       "      <td>N</td>\n",
       "      <td>False</td>\n",
       "    </tr>\n",
       "    <tr>\n",
       "      <th>1</th>\n",
       "      <td>1996</td>\n",
       "      <td>Indians</td>\n",
       "      <td>0.293</td>\n",
       "      <td>0.182</td>\n",
       "      <td>30.2</td>\n",
       "      <td>4.9</td>\n",
       "      <td>-35.0</td>\n",
       "      <td>AL</td>\n",
       "      <td>99</td>\n",
       "      <td>62</td>\n",
       "      <td>Y</td>\n",
       "      <td>N</td>\n",
       "      <td>N</td>\n",
       "      <td>N</td>\n",
       "      <td>True</td>\n",
       "    </tr>\n",
       "    <tr>\n",
       "      <th>2</th>\n",
       "      <td>1999</td>\n",
       "      <td>Indians</td>\n",
       "      <td>0.289</td>\n",
       "      <td>0.177</td>\n",
       "      <td>34.4</td>\n",
       "      <td>5.1</td>\n",
       "      <td>18.6</td>\n",
       "      <td>AL</td>\n",
       "      <td>97</td>\n",
       "      <td>65</td>\n",
       "      <td>Y</td>\n",
       "      <td>N</td>\n",
       "      <td>N</td>\n",
       "      <td>N</td>\n",
       "      <td>True</td>\n",
       "    </tr>\n",
       "    <tr>\n",
       "      <th>3</th>\n",
       "      <td>1995</td>\n",
       "      <td>Indians</td>\n",
       "      <td>0.291</td>\n",
       "      <td>0.188</td>\n",
       "      <td>27.8</td>\n",
       "      <td>4.8</td>\n",
       "      <td>-24.1</td>\n",
       "      <td>AL</td>\n",
       "      <td>100</td>\n",
       "      <td>44</td>\n",
       "      <td>Y</td>\n",
       "      <td>N</td>\n",
       "      <td>Y</td>\n",
       "      <td>N</td>\n",
       "      <td>True</td>\n",
       "    </tr>\n",
       "    <tr>\n",
       "      <th>4</th>\n",
       "      <td>1994</td>\n",
       "      <td>Yankees</td>\n",
       "      <td>0.290</td>\n",
       "      <td>0.172</td>\n",
       "      <td>23.4</td>\n",
       "      <td>3.9</td>\n",
       "      <td>-16.0</td>\n",
       "      <td>AL</td>\n",
       "      <td>70</td>\n",
       "      <td>43</td>\n",
       "      <td>NaN</td>\n",
       "      <td>NaN</td>\n",
       "      <td>NaN</td>\n",
       "      <td>NaN</td>\n",
       "      <td>False</td>\n",
       "    </tr>\n",
       "  </tbody>\n",
       "</table>\n",
       "</div>"
      ],
      "text/plain": [
       "   Year      Team    AVG    ISO   WAR  Spd   Def lgID    W   L DivWin WCWin  \\\n",
       "0  1996  Mariners  0.287  0.197  37.1  4.4  33.1   AL   85  76      N     N   \n",
       "1  1996   Indians  0.293  0.182  30.2  4.9 -35.0   AL   99  62      Y     N   \n",
       "2  1999   Indians  0.289  0.177  34.4  5.1  18.6   AL   97  65      Y     N   \n",
       "3  1995   Indians  0.291  0.188  27.8  4.8 -24.1   AL  100  44      Y     N   \n",
       "4  1994   Yankees  0.290  0.172  23.4  3.9 -16.0   AL   70  43    NaN   NaN   \n",
       "\n",
       "  LgWin WSWin playoffs  \n",
       "0     N     N    False  \n",
       "1     N     N     True  \n",
       "2     N     N     True  \n",
       "3     Y     N     True  \n",
       "4   NaN   NaN    False  "
      ]
     },
     "execution_count": 85,
     "metadata": {},
     "output_type": "execute_result"
    }
   ],
   "source": [
    "five.head()"
   ]
  },
  {
   "cell_type": "code",
   "execution_count": 86,
   "metadata": {
    "collapsed": false
   },
   "outputs": [
    {
     "data": {
      "text/html": [
       "<div>\n",
       "<table border=\"1\" class=\"dataframe\">\n",
       "  <thead>\n",
       "    <tr style=\"text-align: right;\">\n",
       "      <th></th>\n",
       "      <th>Year</th>\n",
       "      <th>AVG</th>\n",
       "      <th>ISO</th>\n",
       "      <th>WAR</th>\n",
       "      <th>Spd</th>\n",
       "      <th>Def</th>\n",
       "      <th>W</th>\n",
       "      <th>L</th>\n",
       "    </tr>\n",
       "  </thead>\n",
       "  <tbody>\n",
       "    <tr>\n",
       "      <th>count</th>\n",
       "      <td>862.000000</td>\n",
       "      <td>862.000000</td>\n",
       "      <td>862.000000</td>\n",
       "      <td>862.000000</td>\n",
       "      <td>862.000000</td>\n",
       "      <td>862.000000</td>\n",
       "      <td>862.000000</td>\n",
       "      <td>862.000000</td>\n",
       "    </tr>\n",
       "    <tr>\n",
       "      <th>mean</th>\n",
       "      <td>2000.937355</td>\n",
       "      <td>0.261816</td>\n",
       "      <td>0.148238</td>\n",
       "      <td>18.750232</td>\n",
       "      <td>4.536891</td>\n",
       "      <td>10.258005</td>\n",
       "      <td>79.883991</td>\n",
       "      <td>79.883991</td>\n",
       "    </tr>\n",
       "    <tr>\n",
       "      <th>std</th>\n",
       "      <td>8.562310</td>\n",
       "      <td>0.011924</td>\n",
       "      <td>0.021256</td>\n",
       "      <td>7.639580</td>\n",
       "      <td>0.508655</td>\n",
       "      <td>45.958911</td>\n",
       "      <td>11.867072</td>\n",
       "      <td>11.834338</td>\n",
       "    </tr>\n",
       "    <tr>\n",
       "      <th>min</th>\n",
       "      <td>1986.000000</td>\n",
       "      <td>0.226000</td>\n",
       "      <td>0.088000</td>\n",
       "      <td>-4.500000</td>\n",
       "      <td>3.000000</td>\n",
       "      <td>-160.900000</td>\n",
       "      <td>43.000000</td>\n",
       "      <td>40.000000</td>\n",
       "    </tr>\n",
       "    <tr>\n",
       "      <th>25%</th>\n",
       "      <td>1994.000000</td>\n",
       "      <td>0.253000</td>\n",
       "      <td>0.134000</td>\n",
       "      <td>13.425000</td>\n",
       "      <td>4.200000</td>\n",
       "      <td>-20.700000</td>\n",
       "      <td>71.250000</td>\n",
       "      <td>72.000000</td>\n",
       "    </tr>\n",
       "    <tr>\n",
       "      <th>50%</th>\n",
       "      <td>2001.000000</td>\n",
       "      <td>0.262000</td>\n",
       "      <td>0.147000</td>\n",
       "      <td>18.900000</td>\n",
       "      <td>4.500000</td>\n",
       "      <td>11.800000</td>\n",
       "      <td>80.000000</td>\n",
       "      <td>79.000000</td>\n",
       "    </tr>\n",
       "    <tr>\n",
       "      <th>75%</th>\n",
       "      <td>2008.000000</td>\n",
       "      <td>0.270000</td>\n",
       "      <td>0.163000</td>\n",
       "      <td>23.775000</td>\n",
       "      <td>4.900000</td>\n",
       "      <td>41.875000</td>\n",
       "      <td>89.000000</td>\n",
       "      <td>88.000000</td>\n",
       "    </tr>\n",
       "    <tr>\n",
       "      <th>max</th>\n",
       "      <td>2015.000000</td>\n",
       "      <td>0.294000</td>\n",
       "      <td>0.206000</td>\n",
       "      <td>44.400000</td>\n",
       "      <td>6.200000</td>\n",
       "      <td>141.000000</td>\n",
       "      <td>116.000000</td>\n",
       "      <td>119.000000</td>\n",
       "    </tr>\n",
       "  </tbody>\n",
       "</table>\n",
       "</div>"
      ],
      "text/plain": [
       "              Year         AVG         ISO         WAR         Spd  \\\n",
       "count   862.000000  862.000000  862.000000  862.000000  862.000000   \n",
       "mean   2000.937355    0.261816    0.148238   18.750232    4.536891   \n",
       "std       8.562310    0.011924    0.021256    7.639580    0.508655   \n",
       "min    1986.000000    0.226000    0.088000   -4.500000    3.000000   \n",
       "25%    1994.000000    0.253000    0.134000   13.425000    4.200000   \n",
       "50%    2001.000000    0.262000    0.147000   18.900000    4.500000   \n",
       "75%    2008.000000    0.270000    0.163000   23.775000    4.900000   \n",
       "max    2015.000000    0.294000    0.206000   44.400000    6.200000   \n",
       "\n",
       "              Def           W           L  \n",
       "count  862.000000  862.000000  862.000000  \n",
       "mean    10.258005   79.883991   79.883991  \n",
       "std     45.958911   11.867072   11.834338  \n",
       "min   -160.900000   43.000000   40.000000  \n",
       "25%    -20.700000   71.250000   72.000000  \n",
       "50%     11.800000   80.000000   79.000000  \n",
       "75%     41.875000   89.000000   88.000000  \n",
       "max    141.000000  116.000000  119.000000  "
      ]
     },
     "execution_count": 86,
     "metadata": {},
     "output_type": "execute_result"
    }
   ],
   "source": [
    "five.describe()"
   ]
  },
  {
   "cell_type": "markdown",
   "metadata": {},
   "source": [
    "#### Prepare data\n",
    "\n",
    "Next, I need to prepare my data by separating the predictors and outcome variables for the regression model."
   ]
  },
  {
   "cell_type": "code",
   "execution_count": 87,
   "metadata": {
    "collapsed": false
   },
   "outputs": [],
   "source": [
    "preds = five[['AVG','ISO','Def','Spd']]    # multivariate predictors\n",
    "war = five['WAR']    # univariate predictor\n",
    "wins = five['W']    # outcome variable"
   ]
  },
  {
   "cell_type": "markdown",
   "metadata": {},
   "source": [
    "#### Univariate: WAR\n",
    "\n",
    "First, I will examine WAR as a predictor of wins alone using a univariate regression model. Next, I use tuple unpacking along with `train_test_split` from `scikit-learn` to create a _training_ dataset using 30% of the available data. I will train my linear model on this data before applying the model to the _test_ dataset, the remaining 70% of the data."
   ]
  },
  {
   "cell_type": "code",
   "execution_count": 78,
   "metadata": {
    "collapsed": false
   },
   "outputs": [],
   "source": [
    "# use 30% of data for test set, set random_state for reproducibility\n",
    "X_train, X_test, y_train, y_test = train_test_split(war, wins, test_size=0.3, random_state=101)"
   ]
  },
  {
   "cell_type": "markdown",
   "metadata": {},
   "source": [
    "Now that I have separate test and training datasets, I can train a linear model on the test data using `LinearRegression()` and `.fit`."
   ]
  },
  {
   "cell_type": "code",
   "execution_count": 80,
   "metadata": {
    "collapsed": false
   },
   "outputs": [
    {
     "data": {
      "text/plain": [
       "LinearRegression(copy_X=True, fit_intercept=True, n_jobs=1, normalize=False)"
      ]
     },
     "execution_count": 80,
     "metadata": {},
     "output_type": "execute_result"
    }
   ],
   "source": [
    "lm = LinearRegression()\n",
    "\n",
    "# use reshape(-1,1) to format data in way acceptable for lm.fit\n",
    "lm.fit(X_train.reshape(-1,1),y_train)"
   ]
  },
  {
   "cell_type": "markdown",
   "metadata": {},
   "source": [
    "Next, I can create an array of predictions for the outcome variable `wins` in the test dataset based on the `lm` regression model I just created. If my regression model is a perfect fit to the data, there will be no difference between my predicted `wins` values and the actual `wins` values."
   ]
  },
  {
   "cell_type": "code",
   "execution_count": 95,
   "metadata": {
    "collapsed": true
   },
   "outputs": [],
   "source": [
    "# predictions = lm.predict(X_test)\n",
    "predictions = lm.predict(X_test.reshape(-1,1))"
   ]
  },
  {
   "cell_type": "code",
   "execution_count": 97,
   "metadata": {
    "collapsed": false
   },
   "outputs": [
    {
     "data": {
      "text/plain": [
       "<matplotlib.text.Text at 0x11a49c3d0>"
      ]
     },
     "execution_count": 97,
     "metadata": {},
     "output_type": "execute_result"
    },
    {
     "data": {
      "image/png": "[encoded data removed]",
      "text/plain": [
       "<matplotlib.figure.Figure at 0x11a2f3110>"
      ]
     },
     "metadata": {},
     "output_type": "display_data"
    }
   ],
   "source": [
    "# view scatter plot of predictions vs. actual values\n",
    "plt.scatter(y_test,predictions)\n",
    "plt.title('Test data - Univariate regression model')\n",
    "plt.xlabel('Actual outcome values')\n",
    "plt.ylabel('Predicted outcome values')"
   ]
  },
  {
   "cell_type": "code",
   "execution_count": 98,
   "metadata": {
    "collapsed": false
   },
   "outputs": [
    {
     "name": "stdout",
     "output_type": "stream",
     "text": [
      "('MAE:', 6.2736300341392699)\n",
      "('MSE:', 63.543170486978084)\n",
      "('RMSE:', 7.9713970222902635)\n",
      "('R^2:', 0.74463888472838935)\n"
     ]
    }
   ],
   "source": [
    "# view model metrics\n",
    "\n",
    "print('MAE:', metrics.mean_absolute_error(y_test, predictions))\n",
    "print('MSE:', metrics.mean_squared_error(y_test, predictions))\n",
    "print('RMSE:', np.sqrt(metrics.mean_squared_error(y_test, predictions)))\n",
    "print('R^2:', np.sqrt(metrics.r2_score(y_test, predictions)))"
   ]
  },
  {
   "cell_type": "code",
   "execution_count": 99,
   "metadata": {
    "collapsed": false
   },
   "outputs": [
    {
     "name": "stderr",
     "output_type": "stream",
     "text": [
      "/anaconda/lib/python2.7/site-packages/ipykernel/__main__.py:5: FutureWarning: sort(columns=....) is deprecated, use sort_values(by=.....)\n"
     ]
    },
    {
     "data": {
      "text/html": [
       "<div>\n",
       "<table border=\"1\" class=\"dataframe\">\n",
       "  <thead>\n",
       "    <tr style=\"text-align: right;\">\n",
       "      <th></th>\n",
       "      <th>Coefficient</th>\n",
       "    </tr>\n",
       "  </thead>\n",
       "  <tbody>\n",
       "    <tr>\n",
       "      <th>war</th>\n",
       "      <td>1.110619</td>\n",
       "    </tr>\n",
       "  </tbody>\n",
       "</table>\n",
       "</div>"
      ],
      "text/plain": [
       "     Coefficient\n",
       "war     1.110619"
      ]
     },
     "execution_count": 99,
     "metadata": {},
     "output_type": "execute_result"
    }
   ],
   "source": [
    "# view coefficients table\n",
    "# interpretation of table: 1-unit increase in variable in column 1 corresponds with \n",
    "coefficients = pd.DataFrame(lm.coef_,index=['war'])\n",
    "coefficients.columns = ['Coefficient']\n",
    "coefficients.sort('Coefficient',ascending=False)"
   ]
  },
  {
   "cell_type": "markdown",
   "metadata": {},
   "source": [
    "#### Multivariate: 5 tools\n",
    "--- "
   ]
  },
  {
   "cell_type": "code",
   "execution_count": 67,
   "metadata": {
    "collapsed": true
   },
   "outputs": [],
   "source": [
    "# set params for model, use 30% of data for test set\n",
    "X_train, X_test, y_train, y_test = train_test_split(preds, wins, test_size=0.3, random_state=101)"
   ]
  },
  {
   "cell_type": "code",
   "execution_count": 68,
   "metadata": {
    "collapsed": false
   },
   "outputs": [
    {
     "data": {
      "text/plain": [
       "LinearRegression(copy_X=True, fit_intercept=True, n_jobs=1, normalize=False)"
      ]
     },
     "execution_count": 68,
     "metadata": {},
     "output_type": "execute_result"
    }
   ],
   "source": [
    "# train model\n",
    "lm = LinearRegression()\n",
    "# lm.fit(X_train,y_train)\n",
    "lm.fit(X_train,y_train)"
   ]
  },
  {
   "cell_type": "code",
   "execution_count": 69,
   "metadata": {
    "collapsed": false
   },
   "outputs": [],
   "source": [
    "# predictions = lm.predict(X_test)\n",
    "predictions = lm.predict(X_test)"
   ]
  },
  {
   "cell_type": "code",
   "execution_count": 70,
   "metadata": {
    "collapsed": false
   },
   "outputs": [
    {
     "data": {
      "text/plain": [
       "<matplotlib.text.Text at 0x11743c690>"
      ]
     },
     "execution_count": 70,
     "metadata": {},
     "output_type": "execute_result"
    },
    {
     "data": {
      "image/png": "[encoded data removed]",
      "text/plain": [
       "<matplotlib.figure.Figure at 0x117221a50>"
      ]
     },
     "metadata": {},
     "output_type": "display_data"
    }
   ],
   "source": [
    "# view scatter plot of predictions vs. actual values\n",
    "plt.scatter(y_test,predictions)\n",
    "plt.xlabel('Y Test')\n",
    "plt.ylabel('Predicted Y')"
   ]
  },
  {
   "cell_type": "code",
   "execution_count": 71,
   "metadata": {
    "collapsed": false
   },
   "outputs": [
    {
     "name": "stdout",
     "output_type": "stream",
     "text": [
      "('MAE:', 8.9309310894885137)\n",
      "('MSE:', 122.65688013423478)\n",
      "('RMSE:', 11.07505666505751)\n",
      "('R^2:', 0.37420570175371087)\n"
     ]
    }
   ],
   "source": [
    "# view model metrics\n",
    "\n",
    "print('MAE:', metrics.mean_absolute_error(y_test, predictions))\n",
    "print('MSE:', metrics.mean_squared_error(y_test, predictions))\n",
    "print('RMSE:', np.sqrt(metrics.mean_squared_error(y_test, predictions)))\n",
    "print('R^2:', np.sqrt(metrics.r2_score(y_test, predictions)))"
   ]
  },
  {
   "cell_type": "code",
   "execution_count": 72,
   "metadata": {
    "collapsed": false
   },
   "outputs": [
    {
     "data": {
      "text/plain": [
       "<matplotlib.axes._subplots.AxesSubplot at 0x117828610>"
      ]
     },
     "execution_count": 72,
     "metadata": {},
     "output_type": "execute_result"
    },
    {
     "data": {
      "image/png": "[encoded data removed]",
      "text/plain": [
       "<matplotlib.figure.Figure at 0x117814690>"
      ]
     },
     "metadata": {},
     "output_type": "display_data"
    }
   ],
   "source": [
    "# plot residuals, should approximate normal distribution\n",
    "sns.distplot((y_test-predictions),bins=50)"
   ]
  },
  {
   "cell_type": "code",
   "execution_count": 17,
   "metadata": {
    "collapsed": false
   },
   "outputs": [
    {
     "name": "stderr",
     "output_type": "stream",
     "text": [
      "/anaconda/lib/python2.7/site-packages/ipykernel/__main__.py:5: FutureWarning: sort(columns=....) is deprecated, use sort_values(by=.....)\n"
     ]
    },
    {
     "data": {
      "text/html": [
       "<div>\n",
       "<table border=\"1\" class=\"dataframe\">\n",
       "  <thead>\n",
       "    <tr style=\"text-align: right;\">\n",
       "      <th></th>\n",
       "      <th>Coefficient</th>\n",
       "    </tr>\n",
       "  </thead>\n",
       "  <tbody>\n",
       "    <tr>\n",
       "      <th>AVG</th>\n",
       "      <td>276.888137</td>\n",
       "    </tr>\n",
       "    <tr>\n",
       "      <th>ISO</th>\n",
       "      <td>178.408945</td>\n",
       "    </tr>\n",
       "    <tr>\n",
       "      <th>Def</th>\n",
       "      <td>0.077495</td>\n",
       "    </tr>\n",
       "    <tr>\n",
       "      <th>Spd</th>\n",
       "      <td>-0.915602</td>\n",
       "    </tr>\n",
       "  </tbody>\n",
       "</table>\n",
       "</div>"
      ],
      "text/plain": [
       "     Coefficient\n",
       "AVG   276.888137\n",
       "ISO   178.408945\n",
       "Def     0.077495\n",
       "Spd    -0.915602"
      ]
     },
     "execution_count": 17,
     "metadata": {},
     "output_type": "execute_result"
    }
   ],
   "source": [
    "# view coefficients table\n",
    "# interpretation of table: 1-unit increase in variable in column 1 corresponds with \n",
    "coefficients = pd.DataFrame(lm.coef_,preds.columns)\n",
    "coefficients.columns = ['Coefficient']\n",
    "coefficients.sort('Coefficient',ascending=False)"
   ]
  },
  {
   "cell_type": "markdown",
   "metadata": {
    "collapsed": true
   },
   "source": [
    "--- \n",
    "## Appendix"
   ]
  },
  {
   "cell_type": "markdown",
   "metadata": {},
   "source": [
    "### Links \n",
    "<a href=\"https://en.wikipedia.org/wiki/Glossary_of_baseball_(0%E2%80%939)#5-tool_player\" target=\"_blank\">5 tool baseball player: wikipedia.com</a>\n",
    "\n",
    "<a href=\"http://www.performancebaseball.net/html/5tools.html\" target=\"_blank\">5 tool baseball player: performancebaseball.net</a>\n",
    "\n",
    "<a href=\"http://fivethirtyeight.com/features/the-toolsiest-player-of-them-all/\" target=\"_blank\">'Toolsiest player of them all': 538.com</a>\n",
    "\n",
    "<a href=\"http://www.baseball-reference.com/about/war_explained.shtml\" target=\"_blank\">Baseball Reference WAR</a>\n",
    "\n",
    "<a href=\"http://www.fangraphs.com/library/misc/war/\" target=\"_blank\">Fangraphs WAR</a>\n",
    "\n",
    "<a href=\"https://en.wikipedia.org/wiki/Wins_Above_Replacement\" target=\"_blank\">Wikipedia WAR</a>\n",
    "\n",
    "<a href=\"http://www.espn.com/blog/sweetspot/post/_/id/27050/what-we-talk-about-when-we-talk-about-war\" target=\"_blank\">ESPN WAR</a>"
   ]
  },
  {
   "cell_type": "code",
   "execution_count": null,
   "metadata": {
    "collapsed": true
   },
   "outputs": [],
   "source": []
  }
 ],
 "metadata": {
  "anaconda-cloud": {},
  "kernelspec": {
   "display_name": "Python [conda root]",
   "language": "python",
   "name": "conda-root-py"
  },
  "language_info": {
   "codemirror_mode": {
    "name": "ipython",
    "version": 2
   },
   "file_extension": ".py",
   "mimetype": "text/x-python",
   "name": "python",
   "nbconvert_exporter": "python",
   "pygments_lexer": "ipython2",
   "version": "2.7.12"
  }
 },
 "nbformat": 4,
 "nbformat_minor": 1
}
