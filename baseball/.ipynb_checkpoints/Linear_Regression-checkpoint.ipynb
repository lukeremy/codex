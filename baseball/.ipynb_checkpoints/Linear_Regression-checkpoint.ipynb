{
 "cells": [
  {
   "cell_type": "markdown",
   "metadata": {},
   "source": [
    "# Linear Regression\n",
    "\n",
    "\n",
    "> _\"Baseball statistics are like a girl in a bikini. They show a lot, but not everything.\"_   \n",
    "    \n",
    "> [- Toby Harrah, former MLB baseball player](http://www.baseball-reference.com/players/h/harrato01.shtml)"
   ]
  },
  {
   "cell_type": "markdown",
   "metadata": {},
   "source": [
    "---\n",
    "\n",
    "## Overview\n",
    "\n",
    "In this notebook, I demonstrate usage of both univariate and multivariate linear regression (in Python) as a means for predicting specific outcomes -- in this case, the number of wins Major League Baseball (MLB) teams attain over the course of a 162-game season. \n",
    "\n",
    "![Ken Griffey: The Ultimate 5-Tool Player](img/kengriffey.png \"Logo Title Text 1\")\n",
    "\n",
    "note to self: use html/css to size junior"
   ]
  },
  {
   "cell_type": "markdown",
   "metadata": {
    "collapsed": true
   },
   "source": [
    "---\n",
    "\n",
    "## Context\n",
    "\n",
    "Love it or hate it, baseball has been a game of numbers since the MLB's inaugural season in 1869. Over the ~150 years since then, MLB general managers and statisticians have developed a vast assortment of metrics in an attempt to better to build baseball team rosters that have  better chances at succeeding.\n",
    "\n",
    "### Historical baseball analysis: Five tools\n",
    "\n",
    "Historically, baseball talent scouts have relied on the <a href=\"https://en.wikipedia.org/wiki/Glossary_of_baseball_(0%E2%80%939)#5-tool_player\" target=\"_blank\">__ _5 tools_ __</a> that positional baseball players (i.e., non-pitchers) are said to possess as a measure of a player's ability. Those five tools include:   \n",
    "- batting for average   \n",
    "- batting for power  \n",
    "- speed  \n",
    "- defense with glove  \n",
    "- defense with arm  \n",
    "\n",
    "The higher a player ranks on each of these five tools, the more valuable you would expect that player to be to his team. The five tools are typically only applied to positional players, and are not commonly used to evaluate pitchers.\n",
    "\n",
    "### Current baseball analysis: WAR\n",
    "\n",
    "With recent advances in statistical techniques and the availability of robust baseball datasets (such as the [Lahman database](http://www.seanlahman.com/baseball-archive/statistics/)), statisticians have developed several metrics, or <a href=\"http://sabr.org/sabermetrics\" target=\"_blank\">\"_sabermetrics_,\"</a> to better quantify the game of baseball. __Wins above replacement__ (WAR) and is one of the most popular sabermetrics. According to <a href=\"http://www.espn.com/blog/sweetspot/post/_/id/27050/what-we-talk-about-when-we-talk-about-war\" target=\"_blank\">ESPN:</a>\n",
    "\n",
    "> It [WAR] attempts to evaluate a player's total contribution -- batting, fielding, baserunning, pitching -- to his team. It is expressed in terms of wins over the perceived value of a replacement-level player at each position, essentially a Triple-A player. (A team of replacement-level players would be expected to win about 50 games.)\n",
    "\n",
    "\n",
    "\n",
    "Simply put, WAR aims to quantify the value a player adds to his team in terms of wins per season. In other words, a team composed of players with high-WAR values should be expected to attain more wins in a season than a team composed of players with low-WAR values. \n",
    "\n",
    "WAR is calculated separately for positional players and pitchers; I focus on WAR for positional players in this notebook.\n",
    "\n",
    "\n",
    "_Note: This notebook is intended to demonstrate principles of linear regression in a baseball setting; it is not intended as a rigorous analysis of the ideal predictors to use in constructing a successful baseball team :)_\n",
    " "
   ]
  },
  {
   "cell_type": "markdown",
   "metadata": {},
   "source": [
    "---\n",
    "\n",
    "## Method\n",
    "\n",
    "Linear regression is a common technique used for predicting continuous variables. _Univariate_ linear regression refers to regression models with only one predictor variable, whereas _multivariate_ linear regression refers to regression models with several predictor variables. I will compare a univariate regression model with one predictor, WAR, to a multivariate regression model with several predictors to serve as proxies for the five tools.\n",
    "\n",
    "Because the five tools are typically only applied to positional players (and not pitchers), I  purposefully excluded pitching WAR from my univariate\n",
    "\n",
    "### Data\n",
    "\n",
    "Data for this analysis were cleaned and prepared in another notebook; please see [this notebook](INSERT LINK TO NOTEBOOK) for more information on how the variables listed below were collected.\n",
    "\n",
    "In the dataset, each row represents a single team over one season of play. There are 30 MLB teams represented in the dataset ranging 53 years from 1963 - 2015.  \n",
    "\n",
    "##### Outcome variable\n",
    "\n",
    "Possible outcomes to consider for this analysis include whether or not a team made the playoffs and whether or not a team wins the World Series (i.e., MLB championship), but these are both binary (e.g., Yes/No) variables that would be best suited for a logistic regression model. I used number of wins as my outcome variable, since this is a continuous variable suited for linear regression.\n",
    "\n",
    "* __Wins__: _the number of wins a specific MLB team attained in a given season_  \n",
    "\n",
    "##### Predictor variables  \n",
    "_Univariate analysis_: \n",
    "* __WAR__: the cumulative offensive and defensive WAR attained by a single team in a given season (does not include pitching WAR) \n",
    "\n",
    "_Multivariate_:  \n",
    "* __AVG__ (batting for average): the average number of hits a given team attained per at bat for a given season (e.g., a .300 AVG means a team averaged 3 hits for every 10 at bats)  \n",
    "* __ISO__ (batting for power): isolated slugging percentage, calculated as   \n",
    "* __Spd__ (speed): insert description here  \n",
    "- __FG_Def__ (defense with glove, defense with arm): insert description here\n",
    "\n"
   ]
  },
  {
   "cell_type": "markdown",
   "metadata": {},
   "source": [
    "<a href=\"https://en.wikipedia.org/wiki/Glossary_of_baseball_(0%E2%80%939)#5-tool_player\" target=\"_blank\">5 tool baseball player: wikipedia.com</a>\n",
    "\n",
    "<a href=\"http://www.performancebaseball.net/html/5tools.html\" target=\"_blank\">5 tool baseball player: performancebaseball.net</a>\n",
    "\n",
    "<a href=\"http://fivethirtyeight.com/features/the-toolsiest-player-of-them-all/\" target=\"_blank\">'Toolsiest player of them all': 538.com</a>\n",
    "\n",
    "<a href=\"http://www.baseball-reference.com/about/war_explained.shtml\" target=\"_blank\">Baseball Reference WAR</a>\n",
    "\n",
    "<a href=\"http://www.fangraphs.com/library/misc/war/\" target=\"_blank\">Fangraphs WAR</a>\n",
    "\n",
    "<a href=\"https://en.wikipedia.org/wiki/Wins_Above_Replacement\" target=\"_blank\">Wikipedia WAR</a>\n",
    "\n",
    "<a href=\"http://www.espn.com/blog/sweetspot/post/_/id/27050/what-we-talk-about-when-we-talk-about-war\" target=\"_blank\">ESPN WAR</a>"
   ]
  },
  {
   "cell_type": "markdown",
   "metadata": {},
   "source": [
    "--- \n",
    "\n",
    "### Analysis & Code"
   ]
  },
  {
   "cell_type": "code",
   "execution_count": 34,
   "metadata": {
    "collapsed": false
   },
   "outputs": [],
   "source": [
    "# import packages\n",
    "import numpy as np\n",
    "import pandas as pd\n",
    "import matplotlib.pyplot as plt\n",
    "import seaborn as sns\n",
    "\n",
    "# view plots in notebook\n",
    "%matplotlib inline"
   ]
  },
  {
   "cell_type": "code",
   "execution_count": 35,
   "metadata": {
    "collapsed": false
   },
   "outputs": [],
   "source": [
    "# import previously cleaned regression dataset\n",
    "five = pd.read_csv('data/five_reg.csv')"
   ]
  },
  {
   "cell_type": "code",
   "execution_count": 38,
   "metadata": {
    "collapsed": false
   },
   "outputs": [
    {
     "data": {
      "text/plain": [
       "Index([u'Year', u'Team', u'AVG', u'ISO', u'WAR', u'Spd', u'Def', u'lgID', u'W',\n",
       "       u'L', u'DivWin', u'WCWin', u'LgWin', u'WSWin', u'playoffs'],\n",
       "      dtype='object')"
      ]
     },
     "execution_count": 38,
     "metadata": {},
     "output_type": "execute_result"
    }
   ],
   "source": [
    "five.columns"
   ]
  },
  {
   "cell_type": "code",
   "execution_count": 39,
   "metadata": {
    "collapsed": false
   },
   "outputs": [
    {
     "data": {
      "text/html": [
       "<div>\n",
       "<table border=\"1\" class=\"dataframe\">\n",
       "  <thead>\n",
       "    <tr style=\"text-align: right;\">\n",
       "      <th></th>\n",
       "      <th>Year</th>\n",
       "      <th>Team</th>\n",
       "      <th>AVG</th>\n",
       "      <th>ISO</th>\n",
       "      <th>WAR</th>\n",
       "      <th>Spd</th>\n",
       "      <th>Def</th>\n",
       "      <th>lgID</th>\n",
       "      <th>W</th>\n",
       "      <th>L</th>\n",
       "      <th>DivWin</th>\n",
       "      <th>WCWin</th>\n",
       "      <th>LgWin</th>\n",
       "      <th>WSWin</th>\n",
       "      <th>playoffs</th>\n",
       "    </tr>\n",
       "  </thead>\n",
       "  <tbody>\n",
       "    <tr>\n",
       "      <th>0</th>\n",
       "      <td>1996</td>\n",
       "      <td>Mariners</td>\n",
       "      <td>0.287</td>\n",
       "      <td>0.197</td>\n",
       "      <td>37.1</td>\n",
       "      <td>4.4</td>\n",
       "      <td>33.1</td>\n",
       "      <td>AL</td>\n",
       "      <td>85</td>\n",
       "      <td>76</td>\n",
       "      <td>N</td>\n",
       "      <td>N</td>\n",
       "      <td>N</td>\n",
       "      <td>N</td>\n",
       "      <td>False</td>\n",
       "    </tr>\n",
       "    <tr>\n",
       "      <th>1</th>\n",
       "      <td>1996</td>\n",
       "      <td>Indians</td>\n",
       "      <td>0.293</td>\n",
       "      <td>0.182</td>\n",
       "      <td>30.2</td>\n",
       "      <td>4.9</td>\n",
       "      <td>-35.0</td>\n",
       "      <td>AL</td>\n",
       "      <td>99</td>\n",
       "      <td>62</td>\n",
       "      <td>Y</td>\n",
       "      <td>N</td>\n",
       "      <td>N</td>\n",
       "      <td>N</td>\n",
       "      <td>True</td>\n",
       "    </tr>\n",
       "    <tr>\n",
       "      <th>2</th>\n",
       "      <td>1999</td>\n",
       "      <td>Indians</td>\n",
       "      <td>0.289</td>\n",
       "      <td>0.177</td>\n",
       "      <td>34.4</td>\n",
       "      <td>5.1</td>\n",
       "      <td>18.6</td>\n",
       "      <td>AL</td>\n",
       "      <td>97</td>\n",
       "      <td>65</td>\n",
       "      <td>Y</td>\n",
       "      <td>N</td>\n",
       "      <td>N</td>\n",
       "      <td>N</td>\n",
       "      <td>True</td>\n",
       "    </tr>\n",
       "    <tr>\n",
       "      <th>3</th>\n",
       "      <td>1995</td>\n",
       "      <td>Indians</td>\n",
       "      <td>0.291</td>\n",
       "      <td>0.188</td>\n",
       "      <td>27.8</td>\n",
       "      <td>4.8</td>\n",
       "      <td>-24.1</td>\n",
       "      <td>AL</td>\n",
       "      <td>100</td>\n",
       "      <td>44</td>\n",
       "      <td>Y</td>\n",
       "      <td>N</td>\n",
       "      <td>Y</td>\n",
       "      <td>N</td>\n",
       "      <td>True</td>\n",
       "    </tr>\n",
       "    <tr>\n",
       "      <th>4</th>\n",
       "      <td>1994</td>\n",
       "      <td>Yankees</td>\n",
       "      <td>0.290</td>\n",
       "      <td>0.172</td>\n",
       "      <td>23.4</td>\n",
       "      <td>3.9</td>\n",
       "      <td>-16.0</td>\n",
       "      <td>AL</td>\n",
       "      <td>70</td>\n",
       "      <td>43</td>\n",
       "      <td>NaN</td>\n",
       "      <td>NaN</td>\n",
       "      <td>NaN</td>\n",
       "      <td>NaN</td>\n",
       "      <td>False</td>\n",
       "    </tr>\n",
       "  </tbody>\n",
       "</table>\n",
       "</div>"
      ],
      "text/plain": [
       "   Year      Team    AVG    ISO   WAR  Spd   Def lgID    W   L DivWin WCWin  \\\n",
       "0  1996  Mariners  0.287  0.197  37.1  4.4  33.1   AL   85  76      N     N   \n",
       "1  1996   Indians  0.293  0.182  30.2  4.9 -35.0   AL   99  62      Y     N   \n",
       "2  1999   Indians  0.289  0.177  34.4  5.1  18.6   AL   97  65      Y     N   \n",
       "3  1995   Indians  0.291  0.188  27.8  4.8 -24.1   AL  100  44      Y     N   \n",
       "4  1994   Yankees  0.290  0.172  23.4  3.9 -16.0   AL   70  43    NaN   NaN   \n",
       "\n",
       "  LgWin WSWin playoffs  \n",
       "0     N     N    False  \n",
       "1     N     N     True  \n",
       "2     N     N     True  \n",
       "3     Y     N     True  \n",
       "4   NaN   NaN    False  "
      ]
     },
     "execution_count": 39,
     "metadata": {},
     "output_type": "execute_result"
    }
   ],
   "source": [
    "five.head()"
   ]
  },
  {
   "cell_type": "code",
   "execution_count": 37,
   "metadata": {
    "collapsed": false
   },
   "outputs": [
    {
     "data": {
      "text/html": [
       "<div>\n",
       "<table border=\"1\" class=\"dataframe\">\n",
       "  <thead>\n",
       "    <tr style=\"text-align: right;\">\n",
       "      <th></th>\n",
       "      <th>Year</th>\n",
       "      <th>AVG</th>\n",
       "      <th>ISO</th>\n",
       "      <th>WAR</th>\n",
       "      <th>Spd</th>\n",
       "      <th>Def</th>\n",
       "      <th>W</th>\n",
       "      <th>L</th>\n",
       "    </tr>\n",
       "  </thead>\n",
       "  <tbody>\n",
       "    <tr>\n",
       "      <th>count</th>\n",
       "      <td>1417.000000</td>\n",
       "      <td>1408.000000</td>\n",
       "      <td>1408.000000</td>\n",
       "      <td>1408.000000</td>\n",
       "      <td>1408.000000</td>\n",
       "      <td>1408.000000</td>\n",
       "      <td>1417.000000</td>\n",
       "      <td>1417.000000</td>\n",
       "    </tr>\n",
       "    <tr>\n",
       "      <th>mean</th>\n",
       "      <td>1990.575159</td>\n",
       "      <td>0.258926</td>\n",
       "      <td>0.138025</td>\n",
       "      <td>18.716051</td>\n",
       "      <td>4.462145</td>\n",
       "      <td>12.399006</td>\n",
       "      <td>79.753705</td>\n",
       "      <td>79.651376</td>\n",
       "    </tr>\n",
       "    <tr>\n",
       "      <th>std</th>\n",
       "      <td>15.110101</td>\n",
       "      <td>0.013083</td>\n",
       "      <td>0.024240</td>\n",
       "      <td>8.267527</td>\n",
       "      <td>0.580856</td>\n",
       "      <td>46.514914</td>\n",
       "      <td>12.286282</td>\n",
       "      <td>12.242944</td>\n",
       "    </tr>\n",
       "    <tr>\n",
       "      <th>min</th>\n",
       "      <td>1963.000000</td>\n",
       "      <td>0.214000</td>\n",
       "      <td>0.073000</td>\n",
       "      <td>-9.700000</td>\n",
       "      <td>2.700000</td>\n",
       "      <td>-160.900000</td>\n",
       "      <td>37.000000</td>\n",
       "      <td>40.000000</td>\n",
       "    </tr>\n",
       "    <tr>\n",
       "      <th>25%</th>\n",
       "      <td>1978.000000</td>\n",
       "      <td>NaN</td>\n",
       "      <td>NaN</td>\n",
       "      <td>NaN</td>\n",
       "      <td>NaN</td>\n",
       "      <td>NaN</td>\n",
       "      <td>71.000000</td>\n",
       "      <td>71.000000</td>\n",
       "    </tr>\n",
       "    <tr>\n",
       "      <th>50%</th>\n",
       "      <td>1991.000000</td>\n",
       "      <td>NaN</td>\n",
       "      <td>NaN</td>\n",
       "      <td>NaN</td>\n",
       "      <td>NaN</td>\n",
       "      <td>NaN</td>\n",
       "      <td>80.000000</td>\n",
       "      <td>79.000000</td>\n",
       "    </tr>\n",
       "    <tr>\n",
       "      <th>75%</th>\n",
       "      <td>2004.000000</td>\n",
       "      <td>NaN</td>\n",
       "      <td>NaN</td>\n",
       "      <td>NaN</td>\n",
       "      <td>NaN</td>\n",
       "      <td>NaN</td>\n",
       "      <td>89.000000</td>\n",
       "      <td>88.000000</td>\n",
       "    </tr>\n",
       "    <tr>\n",
       "      <th>max</th>\n",
       "      <td>2015.000000</td>\n",
       "      <td>0.294000</td>\n",
       "      <td>0.206000</td>\n",
       "      <td>45.900000</td>\n",
       "      <td>6.600000</td>\n",
       "      <td>150.900000</td>\n",
       "      <td>116.000000</td>\n",
       "      <td>119.000000</td>\n",
       "    </tr>\n",
       "  </tbody>\n",
       "</table>\n",
       "</div>"
      ],
      "text/plain": [
       "              Year          AVG          ISO          WAR          Spd  \\\n",
       "count  1417.000000  1408.000000  1408.000000  1408.000000  1408.000000   \n",
       "mean   1990.575159     0.258926     0.138025    18.716051     4.462145   \n",
       "std      15.110101     0.013083     0.024240     8.267527     0.580856   \n",
       "min    1963.000000     0.214000     0.073000    -9.700000     2.700000   \n",
       "25%    1978.000000          NaN          NaN          NaN          NaN   \n",
       "50%    1991.000000          NaN          NaN          NaN          NaN   \n",
       "75%    2004.000000          NaN          NaN          NaN          NaN   \n",
       "max    2015.000000     0.294000     0.206000    45.900000     6.600000   \n",
       "\n",
       "               Def            W            L  \n",
       "count  1408.000000  1417.000000  1417.000000  \n",
       "mean     12.399006    79.753705    79.651376  \n",
       "std      46.514914    12.286282    12.242944  \n",
       "min    -160.900000    37.000000    40.000000  \n",
       "25%            NaN    71.000000    71.000000  \n",
       "50%            NaN    80.000000    79.000000  \n",
       "75%            NaN    89.000000    88.000000  \n",
       "max     150.900000   116.000000   119.000000  "
      ]
     },
     "execution_count": 37,
     "metadata": {},
     "output_type": "execute_result"
    }
   ],
   "source": [
    "five.describe()"
   ]
  },
  {
   "cell_type": "code",
   "execution_count": 8,
   "metadata": {
    "collapsed": false
   },
   "outputs": [],
   "source": [
    "preds = five[['AVG','ISO','Def','Spd']]\n",
    "war = five['WAR']\n",
    "wins = five['W']"
   ]
  },
  {
   "cell_type": "code",
   "execution_count": 9,
   "metadata": {
    "collapsed": false
   },
   "outputs": [
    {
     "data": {
      "text/html": [
       "<div>\n",
       "<table border=\"1\" class=\"dataframe\">\n",
       "  <thead>\n",
       "    <tr style=\"text-align: right;\">\n",
       "      <th></th>\n",
       "      <th>AVG</th>\n",
       "      <th>ISO</th>\n",
       "      <th>Def</th>\n",
       "      <th>Spd</th>\n",
       "    </tr>\n",
       "  </thead>\n",
       "  <tbody>\n",
       "    <tr>\n",
       "      <th>0</th>\n",
       "      <td>0.283</td>\n",
       "      <td>0.194</td>\n",
       "      <td>-24.8</td>\n",
       "      <td>4.6</td>\n",
       "    </tr>\n",
       "    <tr>\n",
       "      <th>1</th>\n",
       "      <td>0.289</td>\n",
       "      <td>0.202</td>\n",
       "      <td>-61.5</td>\n",
       "      <td>4.8</td>\n",
       "    </tr>\n",
       "    <tr>\n",
       "      <th>2</th>\n",
       "      <td>0.290</td>\n",
       "      <td>0.174</td>\n",
       "      <td>-47.2</td>\n",
       "      <td>5.0</td>\n",
       "    </tr>\n",
       "    <tr>\n",
       "      <th>3</th>\n",
       "      <td>0.282</td>\n",
       "      <td>0.190</td>\n",
       "      <td>-66.6</td>\n",
       "      <td>4.4</td>\n",
       "    </tr>\n",
       "    <tr>\n",
       "      <th>4</th>\n",
       "      <td>0.285</td>\n",
       "      <td>0.177</td>\n",
       "      <td>-91.9</td>\n",
       "      <td>4.9</td>\n",
       "    </tr>\n",
       "  </tbody>\n",
       "</table>\n",
       "</div>"
      ],
      "text/plain": [
       "     AVG    ISO   Def  Spd\n",
       "0  0.283  0.194 -24.8  4.6\n",
       "1  0.289  0.202 -61.5  4.8\n",
       "2  0.290  0.174 -47.2  5.0\n",
       "3  0.282  0.190 -66.6  4.4\n",
       "4  0.285  0.177 -91.9  4.9"
      ]
     },
     "execution_count": 9,
     "metadata": {},
     "output_type": "execute_result"
    }
   ],
   "source": [
    "preds.head()"
   ]
  },
  {
   "cell_type": "code",
   "execution_count": 10,
   "metadata": {
    "collapsed": false
   },
   "outputs": [
    {
     "name": "stderr",
     "output_type": "stream",
     "text": [
      "//anaconda/lib/python2.7/site-packages/sklearn/cross_validation.py:44: DeprecationWarning: This module was deprecated in version 0.18 in favor of the model_selection module into which all the refactored classes and functions are moved. Also note that the interface of the new CV iterators are different from that of this module. This module will be removed in 0.20.\n",
      "  \"This module will be removed in 0.20.\", DeprecationWarning)\n"
     ]
    }
   ],
   "source": [
    "from sklearn.cross_validation import train_test_split\n",
    "from sklearn.linear_model import LinearRegression\n",
    "from sklearn import metrics"
   ]
  },
  {
   "cell_type": "markdown",
   "metadata": {},
   "source": [
    "## Multivariate: 5 tools\n",
    "--- "
   ]
  },
  {
   "cell_type": "code",
   "execution_count": 11,
   "metadata": {
    "collapsed": true
   },
   "outputs": [],
   "source": [
    "# set params for model, use 30% of data for test set\n",
    "X_train, X_test, y_train, y_test = train_test_split(preds, wins, test_size=0.3, random_state=101)"
   ]
  },
  {
   "cell_type": "code",
   "execution_count": 12,
   "metadata": {
    "collapsed": false
   },
   "outputs": [
    {
     "data": {
      "text/plain": [
       "LinearRegression(copy_X=True, fit_intercept=True, n_jobs=1, normalize=False)"
      ]
     },
     "execution_count": 12,
     "metadata": {},
     "output_type": "execute_result"
    }
   ],
   "source": [
    "# train model\n",
    "lm = LinearRegression()\n",
    "# lm.fit(X_train,y_train)\n",
    "lm.fit(X_train,y_train)"
   ]
  },
  {
   "cell_type": "code",
   "execution_count": 13,
   "metadata": {
    "collapsed": false
   },
   "outputs": [],
   "source": [
    "# predictions = lm.predict(X_test)\n",
    "predictions = lm.predict(X_test)"
   ]
  },
  {
   "cell_type": "code",
   "execution_count": 14,
   "metadata": {
    "collapsed": false
   },
   "outputs": [
    {
     "data": {
      "text/plain": [
       "<matplotlib.text.Text at 0x1195af6d0>"
      ]
     },
     "execution_count": 14,
     "metadata": {},
     "output_type": "execute_result"
    },
    {
     "data": {
      "image/png": "[encoded data removed]",
      "text/plain": [
       "<matplotlib.figure.Figure at 0x1170ef2d0>"
      ]
     },
     "metadata": {},
     "output_type": "display_data"
    }
   ],
   "source": [
    "# view scatter plot of predictions vs. actual values\n",
    "plt.scatter(y_test,predictions)\n",
    "plt.xlabel('Y Test')\n",
    "plt.ylabel('Predicted Y')"
   ]
  },
  {
   "cell_type": "code",
   "execution_count": 15,
   "metadata": {
    "collapsed": false
   },
   "outputs": [
    {
     "name": "stdout",
     "output_type": "stream",
     "text": [
      "('MAE:', 7.7752632534997881)\n",
      "('MSE:', 95.991455660301767)\n",
      "('RMSE:', 9.7975229349209361)\n",
      "('R^2:', 0.49154804253058382)\n"
     ]
    }
   ],
   "source": [
    "# view model metrics\n",
    "\n",
    "print('MAE:', metrics.mean_absolute_error(y_test, predictions))\n",
    "print('MSE:', metrics.mean_squared_error(y_test, predictions))\n",
    "print('RMSE:', np.sqrt(metrics.mean_squared_error(y_test, predictions)))\n",
    "print('R^2:', np.sqrt(metrics.r2_score(y_test, predictions)))"
   ]
  },
  {
   "cell_type": "code",
   "execution_count": 16,
   "metadata": {
    "collapsed": false
   },
   "outputs": [
    {
     "data": {
      "text/plain": [
       "<matplotlib.axes._subplots.AxesSubplot at 0x1195c91d0>"
      ]
     },
     "execution_count": 16,
     "metadata": {},
     "output_type": "execute_result"
    },
    {
     "data": {
      "image/png": "[encoded data removed]",
      "text/plain": [
       "<matplotlib.figure.Figure at 0x1170e2a50>"
      ]
     },
     "metadata": {},
     "output_type": "display_data"
    }
   ],
   "source": [
    "# plot residuals, should approximate normal distribution\n",
    "sns.distplot((y_test-predictions),bins=50)"
   ]
  },
  {
   "cell_type": "code",
   "execution_count": 17,
   "metadata": {
    "collapsed": false
   },
   "outputs": [
    {
     "name": "stderr",
     "output_type": "stream",
     "text": [
      "/anaconda/lib/python2.7/site-packages/ipykernel/__main__.py:5: FutureWarning: sort(columns=....) is deprecated, use sort_values(by=.....)\n"
     ]
    },
    {
     "data": {
      "text/html": [
       "<div>\n",
       "<table border=\"1\" class=\"dataframe\">\n",
       "  <thead>\n",
       "    <tr style=\"text-align: right;\">\n",
       "      <th></th>\n",
       "      <th>Coefficient</th>\n",
       "    </tr>\n",
       "  </thead>\n",
       "  <tbody>\n",
       "    <tr>\n",
       "      <th>AVG</th>\n",
       "      <td>276.888137</td>\n",
       "    </tr>\n",
       "    <tr>\n",
       "      <th>ISO</th>\n",
       "      <td>178.408945</td>\n",
       "    </tr>\n",
       "    <tr>\n",
       "      <th>Def</th>\n",
       "      <td>0.077495</td>\n",
       "    </tr>\n",
       "    <tr>\n",
       "      <th>Spd</th>\n",
       "      <td>-0.915602</td>\n",
       "    </tr>\n",
       "  </tbody>\n",
       "</table>\n",
       "</div>"
      ],
      "text/plain": [
       "     Coefficient\n",
       "AVG   276.888137\n",
       "ISO   178.408945\n",
       "Def     0.077495\n",
       "Spd    -0.915602"
      ]
     },
     "execution_count": 17,
     "metadata": {},
     "output_type": "execute_result"
    }
   ],
   "source": [
    "# view coefficients table\n",
    "# interpretation of table: 1-unit increase in variable in column 1 corresponds with \n",
    "coefficients = pd.DataFrame(lm.coef_,preds.columns)\n",
    "coefficients.columns = ['Coefficient']\n",
    "coefficients.sort('Coefficient',ascending=False)"
   ]
  },
  {
   "cell_type": "markdown",
   "metadata": {},
   "source": [
    "## Univariate: WAR\n",
    "--- "
   ]
  },
  {
   "cell_type": "code",
   "execution_count": 18,
   "metadata": {
    "collapsed": false
   },
   "outputs": [],
   "source": [
    "# set params for model, use 30% of data for test set\n",
    "X_train, X_test, y_train, y_test = train_test_split(war, wins, test_size=0.3, random_state=101)"
   ]
  },
  {
   "cell_type": "code",
   "execution_count": 19,
   "metadata": {
    "collapsed": false
   },
   "outputs": [
    {
     "data": {
      "text/plain": [
       "True"
      ]
     },
     "execution_count": 19,
     "metadata": {},
     "output_type": "execute_result"
    }
   ],
   "source": [
    "len(war) == len(wins)"
   ]
  },
  {
   "cell_type": "code",
   "execution_count": 20,
   "metadata": {
    "collapsed": false
   },
   "outputs": [
    {
     "data": {
      "text/plain": [
       "LinearRegression(copy_X=True, fit_intercept=True, n_jobs=1, normalize=False)"
      ]
     },
     "execution_count": 20,
     "metadata": {},
     "output_type": "execute_result"
    }
   ],
   "source": [
    "# train model\n",
    "lm = LinearRegression()\n",
    "# lm.fit(X_train,y_train)\n",
    "lm.fit(X_train.reshape(-1,1),y_train)"
   ]
  },
  {
   "cell_type": "code",
   "execution_count": 21,
   "metadata": {
    "collapsed": true
   },
   "outputs": [],
   "source": [
    "# predictions = lm.predict(X_test)\n",
    "predictions = lm.predict(X_test.reshape(-1,1))"
   ]
  },
  {
   "cell_type": "code",
   "execution_count": 22,
   "metadata": {
    "collapsed": false
   },
   "outputs": [
    {
     "data": {
      "text/plain": [
       "<matplotlib.text.Text at 0x119c730d0>"
      ]
     },
     "execution_count": 22,
     "metadata": {},
     "output_type": "execute_result"
    },
    {
     "data": {
      "image/png": "[encoded data removed]",
      "text/plain": [
       "<matplotlib.figure.Figure at 0x119c29610>"
      ]
     },
     "metadata": {},
     "output_type": "display_data"
    }
   ],
   "source": [
    "# view scatter plot of predictions vs. actual values\n",
    "plt.scatter(y_test,predictions)\n",
    "plt.xlabel('Y Test')\n",
    "plt.ylabel('Predicted Y')"
   ]
  },
  {
   "cell_type": "code",
   "execution_count": 23,
   "metadata": {
    "collapsed": false
   },
   "outputs": [
    {
     "name": "stdout",
     "output_type": "stream",
     "text": [
      "('MAE:', 6.0043785485185959)\n",
      "('MSE:', 58.797435099323721)\n",
      "('RMSE:', 7.6679485587296243)\n",
      "('R^2:', 0.73175873606160236)\n"
     ]
    }
   ],
   "source": [
    "# view model metrics\n",
    "\n",
    "print('MAE:', metrics.mean_absolute_error(y_test, predictions))\n",
    "print('MSE:', metrics.mean_squared_error(y_test, predictions))\n",
    "print('RMSE:', np.sqrt(metrics.mean_squared_error(y_test, predictions)))\n",
    "print('R^2:', np.sqrt(metrics.r2_score(y_test, predictions)))"
   ]
  },
  {
   "cell_type": "code",
   "execution_count": 58,
   "metadata": {
    "collapsed": false
   },
   "outputs": [
    {
     "name": "stderr",
     "output_type": "stream",
     "text": [
      "/anaconda/lib/python2.7/site-packages/ipykernel/__main__.py:5: FutureWarning: sort(columns=....) is deprecated, use sort_values(by=.....)\n"
     ]
    },
    {
     "data": {
      "text/html": [
       "<div>\n",
       "<table border=\"1\" class=\"dataframe\">\n",
       "  <thead>\n",
       "    <tr style=\"text-align: right;\">\n",
       "      <th></th>\n",
       "      <th>Coefficient</th>\n",
       "    </tr>\n",
       "  </thead>\n",
       "  <tbody>\n",
       "    <tr>\n",
       "      <th>war</th>\n",
       "      <td>1.11418</td>\n",
       "    </tr>\n",
       "  </tbody>\n",
       "</table>\n",
       "</div>"
      ],
      "text/plain": [
       "     Coefficient\n",
       "war      1.11418"
      ]
     },
     "execution_count": 58,
     "metadata": {},
     "output_type": "execute_result"
    }
   ],
   "source": [
    "# view coefficients table\n",
    "# interpretation of table: 1-unit increase in variable in column 1 corresponds with \n",
    "coefficients = pd.DataFrame(lm.coef_,index=['war'])\n",
    "coefficients.columns = ['Coefficient']\n",
    "coefficients.sort('Coefficient',ascending=False)"
   ]
  },
  {
   "cell_type": "code",
   "execution_count": null,
   "metadata": {
    "collapsed": true
   },
   "outputs": [],
   "source": []
  }
 ],
 "metadata": {
  "anaconda-cloud": {},
  "kernelspec": {
   "display_name": "Python [conda root]",
   "language": "python",
   "name": "conda-root-py"
  },
  "language_info": {
   "codemirror_mode": {
    "name": "ipython",
    "version": 2
   },
   "file_extension": ".py",
   "mimetype": "text/x-python",
   "name": "python",
   "nbconvert_exporter": "python",
   "pygments_lexer": "ipython2",
   "version": "2.7.12"
  }
 },
 "nbformat": 4,
 "nbformat_minor": 1
}
