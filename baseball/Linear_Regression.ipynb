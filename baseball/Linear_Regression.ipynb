{
 "cells": [
  {
   "cell_type": "markdown",
   "metadata": {},
   "source": [
    "# Linear Regression\n",
    "--- "
   ]
  },
  {
   "cell_type": "markdown",
   "metadata": {},
   "source": [
    "Use this notebook for 5-tool analysis"
   ]
  },
  {
   "cell_type": "markdown",
   "metadata": {
    "collapsed": true
   },
   "source": [
    "5 tools vs. WAR  \n",
    "    - vs. FG WAR  \n",
    "    - vs. BBRef WAR  "
   ]
  },
  {
   "cell_type": "markdown",
   "metadata": {},
   "source": [
    "<a href=\"https://en.wikipedia.org/wiki/Glossary_of_baseball_(0%E2%80%939)#5-tool_player\" target=\"_blank\">5 tool baseball player: wikipedia.com</a>\n",
    "\n",
    "<a href=\"http://www.performancebaseball.net/html/5tools.html\" target=\"_blank\">5 tool baseball player: performancebaseball.net</a>\n",
    "\n",
    "<a href=\"http://fivethirtyeight.com/features/the-toolsiest-player-of-them-all/\" target=\"_blank\">'Toolsiest player of them all': 538.com</a>\n",
    "\n",
    "<a href=\"http://www.baseball-reference.com/about/war_explained.shtml\" target=\"_blank\">Baseball Reference WAR</a>\n",
    "\n",
    "<a href=\"http://www.fangraphs.com/library/misc/war/\" target=\"_blank\">Fangraphs WAR</a>\n",
    "\n",
    "<a href=\"https://en.wikipedia.org/wiki/Wins_Above_Replacement\" target=\"_blank\">Wikipedia WAR</a>\n",
    "\n",
    "<a href=\"http://www.espn.com/blog/sweetspot/post/_/id/27050/what-we-talk-about-when-we-talk-about-war\" target=\"_blank\">ESPN WAR</a>"
   ]
  },
  {
   "cell_type": "markdown",
   "metadata": {},
   "source": [
    "__WAR__ stands for _wins above replacement_, and is a very popular sabermetric . According to <a href=\"http://www.espn.com/blog/sweetspot/post/_/id/27050/what-we-talk-about-when-we-talk-about-war\" target=\"_blank\">ESPN:</a>\n",
    "\n",
    "> It [WAR] attempts to evaluate a player's total contribution -- batting, fielding, baserunning, pitching -- to his team. It is expressed in terms of wins over the perceived value of a replacement-level player at each position, essentially a Triple-A player. (A team of replacement-level players would be expected to win about 50 games.)\n",
    "\n",
    "Players with high WAR values can be said to contribute more value to their teams than players with low WAR values\n",
    "\n",
    "Since players with high WAR values are said to contribute more value (in the form of wins) to their teams than players with low WAR values, we might expect to see teams with rosters composed of high-WAR players to win more games in a season than teams with rosters composed of low-WAR players. In this analysis, I will use two common  \n",
    "\n",
    "<a href=\"http://www.baseball-reference.com/about/war_explained.shtml\" target=\"_blank\">Baseball Reference</a> and <a href=\"http://www.fangraphs.com/library/misc/war/\" target=\"_blank\">Fangraphs </a> are two popular websites that have developed their own formulas for calculating WAR"
   ]
  },
  {
   "cell_type": "code",
   "execution_count": 10,
   "metadata": {
    "collapsed": false
   },
   "outputs": [
    {
     "name": "stdout",
     "output_type": "stream",
     "text": [
      "AllstarFull.csv          Fielding.csv             Pitching.csv\r\n",
      "Appearances.csv          FieldingOF.csv           PitchingPost.csv\r\n",
      "AwardsManagers.csv       FieldingPost.csv         Salaries.csv\r\n",
      "AwardsPlayers.csv        HallOfFame.csv           Schools.csv\r\n",
      "AwardsShareManagers.csv  HomeGames.csv            SeriesPost.csv\r\n",
      "AwardsSharePlayers.csv   Managers.csv             Teams.csv\r\n",
      "Batting.csv              ManagersHalf.csv         TeamsFranchises.csv\r\n",
      "BattingPost.csv          Master.csv               TeamsHalf.csv\r\n",
      "CollegePlaying.csv       Parks.csv                readme2014.txt\r\n"
     ]
    }
   ],
   "source": [
    "ls data/baseballdatabank-master/core"
   ]
  },
  {
   "cell_type": "code",
   "execution_count": 45,
   "metadata": {
    "collapsed": true
   },
   "outputs": [],
   "source": [
    "import numpy as np\n",
    "import pandas as pd"
   ]
  },
  {
   "cell_type": "code",
   "execution_count": 47,
   "metadata": {
    "collapsed": false
   },
   "outputs": [
    {
     "name": "stdout",
     "output_type": "stream",
     "text": [
      "FG_fielding.csv          FG_pitching.csv\r\n",
      "FG_offense.csv           \u001b[34mbaseballdatabank-master\u001b[m\u001b[m/\r\n"
     ]
    }
   ],
   "source": [
    "ls data/"
   ]
  },
  {
   "cell_type": "code",
   "execution_count": 48,
   "metadata": {
    "collapsed": false
   },
   "outputs": [],
   "source": [
    "# import lahman data\n",
    "lf = pd.read_csv('data/baseballdatabank-master/core/Fielding.csv')\n",
    "lb = pd.read_csv('data/baseballdatabank-master/core/Batting.csv')\n",
    "lp = pd.read_csv('data/baseballdatabank-master/core/Pitching.csv')\n",
    "lt = pd.read_csv('data/baseballdatabank-master/core/Teams.csv')\n",
    "                 \n",
    "# import fangraphs data\n",
    "ff = pd.read_csv('data/FG_fielding.csv')\n",
    "fb = pd.read_csv('data/FG_offense.csv')\n",
    "fp = pd.read_csv('data/FG_pitching.csv')"
   ]
  },
  {
   "cell_type": "code",
   "execution_count": 51,
   "metadata": {
    "collapsed": false
   },
   "outputs": [
    {
     "data": {
      "text/plain": [
       "Index([u'﻿\"Season\"', u'Team', u'Inn', u'rSB', u'rGDP', u'rARM', u'rGFP',\n",
       "       u'rPM', u'DRS', u'BIZ', u'Plays', u'RZR', u'OOZ', u'CPP', u'RPP',\n",
       "       u'TZL', u'FSR', u'ARM', u'DPR', u'RngR', u'ErrR', u'UZR', u'UZR/150',\n",
       "       u'Def'],\n",
       "      dtype='object')"
      ]
     },
     "execution_count": 51,
     "metadata": {},
     "output_type": "execute_result"
    }
   ],
   "source": [
    "ff.columns"
   ]
  },
  {
   "cell_type": "code",
   "execution_count": null,
   "metadata": {
    "collapsed": false
   },
   "outputs": [],
   "source": []
  },
  {
   "cell_type": "markdown",
   "metadata": {},
   "source": [
    "predictors:  \n",
    "- bat for average = batting avg  \n",
    "- bat for power = ISO  \n",
    "- arm = FG_def  \n",
    "- glove = FG_def  \n",
    "- speed = FG_UBR | FG_Spd  "
   ]
  },
  {
   "cell_type": "code",
   "execution_count": 40,
   "metadata": {
    "collapsed": false
   },
   "outputs": [
    {
     "data": {
      "text/plain": [
       "Index([u'﻿\"Season\"', u'Team2', u'Inn', u'rSB', u'rGDP', u'rARM', u'rGFP',\n",
       "       u'rPM', u'DRS', u'BIZ', u'Plays', u'RZR', u'OOZ', u'CPP', u'RPP',\n",
       "       u'TZL', u'FSR', u'ARM', u'DPR', u'RngR', u'ErrR', u'UZR', u'UZR/150',\n",
       "       u'Def'],\n",
       "      dtype='object')"
      ]
     },
     "execution_count": 40,
     "metadata": {},
     "output_type": "execute_result"
    }
   ],
   "source": [
    "ff.rename(columns={'\\\"Season\\\"': 'Year','Team':'Team2'}, inplace=True)\n",
    "ff.columns\n",
    "# data = ff.loc[:,['Season','Team','Def']]\n",
    "# data.head()"
   ]
  },
  {
   "cell_type": "code",
   "execution_count": 19,
   "metadata": {
    "collapsed": false
   },
   "outputs": [
    {
     "data": {
      "text/plain": [
       "Index([u'﻿\"Season\"', u'Team', u'Inn', u'rSB', u'rGDP', u'rARM', u'rGFP',\n",
       "       u'rPM', u'DRS', u'BIZ', u'Plays', u'RZR', u'OOZ', u'CPP', u'RPP',\n",
       "       u'TZL', u'FSR', u'ARM', u'DPR', u'RngR', u'ErrR', u'UZR', u'UZR/150',\n",
       "       u'Def'],\n",
       "      dtype='object')"
      ]
     },
     "execution_count": 19,
     "metadata": {},
     "output_type": "execute_result"
    }
   ],
   "source": [
    "ff.columns"
   ]
  },
  {
   "cell_type": "code",
   "execution_count": null,
   "metadata": {
    "collapsed": true
   },
   "outputs": [],
   "source": [
    "ff.rename"
   ]
  }
 ],
 "metadata": {
  "anaconda-cloud": {},
  "kernelspec": {
   "display_name": "Python [conda root]",
   "language": "python",
   "name": "conda-root-py"
  },
  "language_info": {
   "codemirror_mode": {
    "name": "ipython",
    "version": 2
   },
   "file_extension": ".py",
   "mimetype": "text/x-python",
   "name": "python",
   "nbconvert_exporter": "python",
   "pygments_lexer": "ipython2",
   "version": "2.7.12"
  }
 },
 "nbformat": 4,
 "nbformat_minor": 1
}
