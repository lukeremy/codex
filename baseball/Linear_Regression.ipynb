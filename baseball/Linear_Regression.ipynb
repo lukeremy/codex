{
 "cells": [
  {
   "cell_type": "markdown",
   "metadata": {},
   "source": [
    "# Linear Regression\n",
    "--- "
   ]
  },
  {
   "cell_type": "markdown",
   "metadata": {},
   "source": [
    "Use this notebook for 5-tool analysis"
   ]
  },
  {
   "cell_type": "markdown",
   "metadata": {
    "collapsed": true
   },
   "source": [
    "5 tools vs. WAR  \n",
    "    - vs. FG WAR  \n",
    "    - vs. BBRef WAR  "
   ]
  },
  {
   "cell_type": "markdown",
   "metadata": {},
   "source": [
    "<a href=\"https://en.wikipedia.org/wiki/Glossary_of_baseball_(0%E2%80%939)#5-tool_player\" target=\"_blank\">5 tool baseball player: wikipedia.com</a>\n",
    "\n",
    "<a href=\"http://www.performancebaseball.net/html/5tools.html\" target=\"_blank\">5 tool baseball player: performancebaseball.net</a>\n",
    "\n",
    "<a href=\"http://fivethirtyeight.com/features/the-toolsiest-player-of-them-all/\" target=\"_blank\">'Toolsiest player of them all': 538.com</a>\n",
    "\n",
    "<a href=\"http://www.baseball-reference.com/about/war_explained.shtml\" target=\"_blank\">Baseball Reference WAR</a>\n",
    "\n",
    "<a href=\"http://www.fangraphs.com/library/misc/war/\" target=\"_blank\">Fangraphs WAR</a>\n",
    "\n",
    "<a href=\"https://en.wikipedia.org/wiki/Wins_Above_Replacement\" target=\"_blank\">Wikipedia WAR</a>\n",
    "\n",
    "<a href=\"http://www.espn.com/blog/sweetspot/post/_/id/27050/what-we-talk-about-when-we-talk-about-war\" target=\"_blank\">ESPN WAR</a>"
   ]
  },
  {
   "cell_type": "markdown",
   "metadata": {},
   "source": [
    "__WAR__ stands for _wins above replacement_, and is a very popular sabermetric . According to <a href=\"http://www.espn.com/blog/sweetspot/post/_/id/27050/what-we-talk-about-when-we-talk-about-war\" target=\"_blank\">ESPN:</a>\n",
    "\n",
    "> It [WAR] attempts to evaluate a player's total contribution -- batting, fielding, baserunning, pitching -- to his team. It is expressed in terms of wins over the perceived value of a replacement-level player at each position, essentially a Triple-A player. (A team of replacement-level players would be expected to win about 50 games.)\n",
    "\n",
    "Players with high WAR values can be said to contribute more value to their teams than players with low WAR values\n",
    "\n",
    "Since players with high WAR values are said to contribute more value (in the form of wins) to their teams than players with low WAR values, we might expect to see teams with rosters composed of high-WAR players to win more games in a season than teams with rosters composed of low-WAR players. In this analysis, I will use two common  \n",
    "\n",
    "<a href=\"http://www.baseball-reference.com/about/war_explained.shtml\" target=\"_blank\">Baseball Reference</a> and <a href=\"http://www.fangraphs.com/library/misc/war/\" target=\"_blank\">Fangraphs </a> are two popular websites that have developed their own formulas for calculating WAR"
   ]
  },
  {
   "cell_type": "code",
   "execution_count": 3,
   "metadata": {
    "collapsed": false
   },
   "outputs": [
    {
     "name": "stdout",
     "output_type": "stream",
     "text": [
      "FG_fielding.csv          FG_offense.csv           \u001b[34mbaseballdatabank-master\u001b[m\u001b[m/\r\n",
      "FG_fivetools.csv         FG_pitching.csv          five_reg.csv\r\n"
     ]
    }
   ],
   "source": [
    "ls data/"
   ]
  },
  {
   "cell_type": "code",
   "execution_count": 27,
   "metadata": {
    "collapsed": false
   },
   "outputs": [],
   "source": [
    "# import packages\n",
    "import numpy as np\n",
    "import pandas as pd\n",
    "import matplotlib.pyplot as plt\n",
    "import seaborn as sns\n",
    "\n",
    "# view plots in notebook\n",
    "%matplotlib inline"
   ]
  },
  {
   "cell_type": "code",
   "execution_count": 6,
   "metadata": {
    "collapsed": false
   },
   "outputs": [],
   "source": [
    "# import cleaned regression dataset\n",
    "five = pd.read_csv('data/five_reg.csv')\n"
   ]
  },
  {
   "cell_type": "code",
   "execution_count": 7,
   "metadata": {
    "collapsed": false
   },
   "outputs": [
    {
     "data": {
      "text/plain": [
       "Index([u'Year', u'Team', u'AVG', u'ISO', u'WAR', u'Spd', u'Def', u'lgID', u'W',\n",
       "       u'L', u'DivWin', u'WCWin', u'LgWin', u'WSWin', u'playoffs'],\n",
       "      dtype='object')"
      ]
     },
     "execution_count": 7,
     "metadata": {},
     "output_type": "execute_result"
    }
   ],
   "source": [
    "five.columns"
   ]
  },
  {
   "cell_type": "code",
   "execution_count": 8,
   "metadata": {
    "collapsed": false
   },
   "outputs": [
    {
     "data": {
      "text/html": [
       "<div>\n",
       "<table border=\"1\" class=\"dataframe\">\n",
       "  <thead>\n",
       "    <tr style=\"text-align: right;\">\n",
       "      <th></th>\n",
       "      <th>Year</th>\n",
       "      <th>AVG</th>\n",
       "      <th>ISO</th>\n",
       "      <th>WAR</th>\n",
       "      <th>Spd</th>\n",
       "      <th>Def</th>\n",
       "      <th>W</th>\n",
       "      <th>L</th>\n",
       "    </tr>\n",
       "  </thead>\n",
       "  <tbody>\n",
       "    <tr>\n",
       "      <th>count</th>\n",
       "      <td>420.000000</td>\n",
       "      <td>420.000000</td>\n",
       "      <td>420.000000</td>\n",
       "      <td>420.000000</td>\n",
       "      <td>420.000000</td>\n",
       "      <td>420.000000</td>\n",
       "      <td>420.000000</td>\n",
       "      <td>420.000000</td>\n",
       "    </tr>\n",
       "    <tr>\n",
       "      <th>mean</th>\n",
       "      <td>2008.500000</td>\n",
       "      <td>0.260319</td>\n",
       "      <td>0.151569</td>\n",
       "      <td>18.994286</td>\n",
       "      <td>4.447619</td>\n",
       "      <td>11.141905</td>\n",
       "      <td>80.973810</td>\n",
       "      <td>80.973810</td>\n",
       "    </tr>\n",
       "    <tr>\n",
       "      <th>std</th>\n",
       "      <td>4.035936</td>\n",
       "      <td>0.011812</td>\n",
       "      <td>0.018848</td>\n",
       "      <td>7.464840</td>\n",
       "      <td>0.485758</td>\n",
       "      <td>42.610231</td>\n",
       "      <td>11.420234</td>\n",
       "      <td>11.397013</td>\n",
       "    </tr>\n",
       "    <tr>\n",
       "      <th>min</th>\n",
       "      <td>2002.000000</td>\n",
       "      <td>0.226000</td>\n",
       "      <td>0.104000</td>\n",
       "      <td>-1.200000</td>\n",
       "      <td>3.100000</td>\n",
       "      <td>-160.900000</td>\n",
       "      <td>43.000000</td>\n",
       "      <td>57.000000</td>\n",
       "    </tr>\n",
       "    <tr>\n",
       "      <th>25%</th>\n",
       "      <td>2005.000000</td>\n",
       "      <td>0.251000</td>\n",
       "      <td>0.138000</td>\n",
       "      <td>13.900000</td>\n",
       "      <td>4.100000</td>\n",
       "      <td>-16.750000</td>\n",
       "      <td>72.000000</td>\n",
       "      <td>72.000000</td>\n",
       "    </tr>\n",
       "    <tr>\n",
       "      <th>50%</th>\n",
       "      <td>2008.500000</td>\n",
       "      <td>0.260000</td>\n",
       "      <td>0.151000</td>\n",
       "      <td>18.900000</td>\n",
       "      <td>4.400000</td>\n",
       "      <td>13.850000</td>\n",
       "      <td>81.000000</td>\n",
       "      <td>80.500000</td>\n",
       "    </tr>\n",
       "    <tr>\n",
       "      <th>75%</th>\n",
       "      <td>2012.000000</td>\n",
       "      <td>0.268250</td>\n",
       "      <td>0.164000</td>\n",
       "      <td>24.000000</td>\n",
       "      <td>4.800000</td>\n",
       "      <td>39.600000</td>\n",
       "      <td>90.000000</td>\n",
       "      <td>89.250000</td>\n",
       "    </tr>\n",
       "    <tr>\n",
       "      <th>max</th>\n",
       "      <td>2015.000000</td>\n",
       "      <td>0.290000</td>\n",
       "      <td>0.206000</td>\n",
       "      <td>37.500000</td>\n",
       "      <td>5.600000</td>\n",
       "      <td>107.500000</td>\n",
       "      <td>105.000000</td>\n",
       "      <td>119.000000</td>\n",
       "    </tr>\n",
       "  </tbody>\n",
       "</table>\n",
       "</div>"
      ],
      "text/plain": [
       "              Year         AVG         ISO         WAR         Spd  \\\n",
       "count   420.000000  420.000000  420.000000  420.000000  420.000000   \n",
       "mean   2008.500000    0.260319    0.151569   18.994286    4.447619   \n",
       "std       4.035936    0.011812    0.018848    7.464840    0.485758   \n",
       "min    2002.000000    0.226000    0.104000   -1.200000    3.100000   \n",
       "25%    2005.000000    0.251000    0.138000   13.900000    4.100000   \n",
       "50%    2008.500000    0.260000    0.151000   18.900000    4.400000   \n",
       "75%    2012.000000    0.268250    0.164000   24.000000    4.800000   \n",
       "max    2015.000000    0.290000    0.206000   37.500000    5.600000   \n",
       "\n",
       "              Def           W           L  \n",
       "count  420.000000  420.000000  420.000000  \n",
       "mean    11.141905   80.973810   80.973810  \n",
       "std     42.610231   11.420234   11.397013  \n",
       "min   -160.900000   43.000000   57.000000  \n",
       "25%    -16.750000   72.000000   72.000000  \n",
       "50%     13.850000   81.000000   80.500000  \n",
       "75%     39.600000   90.000000   89.250000  \n",
       "max    107.500000  105.000000  119.000000  "
      ]
     },
     "execution_count": 8,
     "metadata": {},
     "output_type": "execute_result"
    }
   ],
   "source": [
    "five.describe()"
   ]
  },
  {
   "cell_type": "markdown",
   "metadata": {},
   "source": [
    "predictors:  \n",
    "- bat for average = AVG   \n",
    "- bat for power = ISO  \n",
    "- arm = FG_Def  \n",
    "- glove = FG_Def  \n",
    "- speed = FG_Spd  "
   ]
  },
  {
   "cell_type": "code",
   "execution_count": 11,
   "metadata": {
    "collapsed": false
   },
   "outputs": [],
   "source": [
    "preds = five[['AVG','ISO','Def','Spd']]\n",
    "war = five['WAR']\n",
    "wins = five['W']"
   ]
  },
  {
   "cell_type": "code",
   "execution_count": 15,
   "metadata": {
    "collapsed": false
   },
   "outputs": [
    {
     "data": {
      "text/html": [
       "<div>\n",
       "<table border=\"1\" class=\"dataframe\">\n",
       "  <thead>\n",
       "    <tr style=\"text-align: right;\">\n",
       "      <th></th>\n",
       "      <th>AVG</th>\n",
       "      <th>ISO</th>\n",
       "      <th>Def</th>\n",
       "      <th>Spd</th>\n",
       "    </tr>\n",
       "  </thead>\n",
       "  <tbody>\n",
       "    <tr>\n",
       "      <th>0</th>\n",
       "      <td>0.283</td>\n",
       "      <td>0.194</td>\n",
       "      <td>-24.8</td>\n",
       "      <td>4.6</td>\n",
       "    </tr>\n",
       "    <tr>\n",
       "      <th>1</th>\n",
       "      <td>0.289</td>\n",
       "      <td>0.202</td>\n",
       "      <td>-61.5</td>\n",
       "      <td>4.8</td>\n",
       "    </tr>\n",
       "    <tr>\n",
       "      <th>2</th>\n",
       "      <td>0.290</td>\n",
       "      <td>0.174</td>\n",
       "      <td>-47.2</td>\n",
       "      <td>5.0</td>\n",
       "    </tr>\n",
       "    <tr>\n",
       "      <th>3</th>\n",
       "      <td>0.282</td>\n",
       "      <td>0.190</td>\n",
       "      <td>-66.6</td>\n",
       "      <td>4.4</td>\n",
       "    </tr>\n",
       "    <tr>\n",
       "      <th>4</th>\n",
       "      <td>0.285</td>\n",
       "      <td>0.177</td>\n",
       "      <td>-91.9</td>\n",
       "      <td>4.9</td>\n",
       "    </tr>\n",
       "  </tbody>\n",
       "</table>\n",
       "</div>"
      ],
      "text/plain": [
       "     AVG    ISO   Def  Spd\n",
       "0  0.283  0.194 -24.8  4.6\n",
       "1  0.289  0.202 -61.5  4.8\n",
       "2  0.290  0.174 -47.2  5.0\n",
       "3  0.282  0.190 -66.6  4.4\n",
       "4  0.285  0.177 -91.9  4.9"
      ]
     },
     "execution_count": 15,
     "metadata": {},
     "output_type": "execute_result"
    }
   ],
   "source": [
    "preds.head()"
   ]
  },
  {
   "cell_type": "code",
   "execution_count": 35,
   "metadata": {
    "collapsed": false
   },
   "outputs": [],
   "source": [
    "from sklearn.cross_validation import train_test_split\n",
    "from sklearn.linear_model import LinearRegression\n",
    "from sklearn import metrics"
   ]
  },
  {
   "cell_type": "markdown",
   "metadata": {},
   "source": [
    "## Multivariate: 5 tools\n",
    "--- "
   ]
  },
  {
   "cell_type": "code",
   "execution_count": 17,
   "metadata": {
    "collapsed": true
   },
   "outputs": [],
   "source": [
    "# set params for model, use 30% of data for test set\n",
    "X_train, X_test, y_train, y_test = train_test_split(preds, wins, test_size=0.3, random_state=101)"
   ]
  },
  {
   "cell_type": "code",
   "execution_count": 19,
   "metadata": {
    "collapsed": false
   },
   "outputs": [
    {
     "data": {
      "text/plain": [
       "LinearRegression(copy_X=True, fit_intercept=True, n_jobs=1, normalize=False)"
      ]
     },
     "execution_count": 19,
     "metadata": {},
     "output_type": "execute_result"
    }
   ],
   "source": [
    "# train model\n",
    "lm = LinearRegression()\n",
    "# lm.fit(X_train,y_train)\n",
    "lm.fit(X_train,y_train)"
   ]
  },
  {
   "cell_type": "code",
   "execution_count": 21,
   "metadata": {
    "collapsed": false
   },
   "outputs": [],
   "source": [
    "# predictions = lm.predict(X_test)\n",
    "predictions = lm.predict(X_test)"
   ]
  },
  {
   "cell_type": "code",
   "execution_count": 28,
   "metadata": {
    "collapsed": false
   },
   "outputs": [
    {
     "data": {
      "text/plain": [
       "<matplotlib.text.Text at 0x119f30890>"
      ]
     },
     "execution_count": 28,
     "metadata": {},
     "output_type": "execute_result"
    },
    {
     "data": {
      "image/png": "[encoded data removed]",
      "text/plain": [
       "<matplotlib.figure.Figure at 0x119eb0250>"
      ]
     },
     "metadata": {},
     "output_type": "display_data"
    }
   ],
   "source": [
    "# view scatter plot of predictions vs. actual values\n",
    "plt.scatter(y_test,predictions)\n",
    "plt.xlabel('Y Test')\n",
    "plt.ylabel('Predicted Y')"
   ]
  },
  {
   "cell_type": "code",
   "execution_count": 25,
   "metadata": {
    "collapsed": false
   },
   "outputs": [
    {
     "name": "stdout",
     "output_type": "stream",
     "text": [
      "('MAE:', 7.7752632534997881)\n",
      "('MSE:', 95.991455660301767)\n",
      "('RMSE:', 9.7975229349209361)\n",
      "('R^2:', 0.49154804253058382)\n"
     ]
    }
   ],
   "source": [
    "# view model metrics\n",
    "\n",
    "print('MAE:', metrics.mean_absolute_error(y_test, predictions))\n",
    "print('MSE:', metrics.mean_squared_error(y_test, predictions))\n",
    "print('RMSE:', np.sqrt(metrics.mean_squared_error(y_test, predictions)))\n",
    "print('R^2:', np.sqrt(metrics.r2_score(y_test, predictions)))"
   ]
  },
  {
   "cell_type": "code",
   "execution_count": 29,
   "metadata": {
    "collapsed": false
   },
   "outputs": [
    {
     "data": {
      "text/plain": [
       "<matplotlib.axes._subplots.AxesSubplot at 0x119fb1110>"
      ]
     },
     "execution_count": 29,
     "metadata": {},
     "output_type": "execute_result"
    },
    {
     "data": {
      "image/png": "[encoded data removed]",
      "text/plain": [
       "<matplotlib.figure.Figure at 0x119fcf810>"
      ]
     },
     "metadata": {},
     "output_type": "display_data"
    }
   ],
   "source": [
    "# plot residuals, should approximate normal distribution\n",
    "sns.distplot((y_test-predictions),bins=50)"
   ]
  },
  {
   "cell_type": "code",
   "execution_count": 36,
   "metadata": {
    "collapsed": false
   },
   "outputs": [
    {
     "name": "stderr",
     "output_type": "stream",
     "text": [
      "/anaconda/lib/python2.7/site-packages/ipykernel/__main__.py:5: FutureWarning: sort(columns=....) is deprecated, use sort_values(by=.....)\n"
     ]
    },
    {
     "data": {
      "text/html": [
       "<div>\n",
       "<table border=\"1\" class=\"dataframe\">\n",
       "  <thead>\n",
       "    <tr style=\"text-align: right;\">\n",
       "      <th></th>\n",
       "      <th>Coefficient</th>\n",
       "    </tr>\n",
       "  </thead>\n",
       "  <tbody>\n",
       "    <tr>\n",
       "      <th>AVG</th>\n",
       "      <td>276.888137</td>\n",
       "    </tr>\n",
       "    <tr>\n",
       "      <th>ISO</th>\n",
       "      <td>178.408945</td>\n",
       "    </tr>\n",
       "    <tr>\n",
       "      <th>Def</th>\n",
       "      <td>0.077495</td>\n",
       "    </tr>\n",
       "    <tr>\n",
       "      <th>Spd</th>\n",
       "      <td>-0.915602</td>\n",
       "    </tr>\n",
       "  </tbody>\n",
       "</table>\n",
       "</div>"
      ],
      "text/plain": [
       "     Coefficient\n",
       "AVG   276.888137\n",
       "ISO   178.408945\n",
       "Def     0.077495\n",
       "Spd    -0.915602"
      ]
     },
     "execution_count": 36,
     "metadata": {},
     "output_type": "execute_result"
    }
   ],
   "source": [
    "# view coefficients table\n",
    "# interpretation of table: 1-unit increase in variable in column 1 corresponds with \n",
    "coefficients = pd.DataFrame(lm.coef_,preds.columns)\n",
    "coefficients.columns = ['Coefficient']\n",
    "coefficients.sort('Coefficient',ascending=False)"
   ]
  },
  {
   "cell_type": "markdown",
   "metadata": {},
   "source": [
    "## Univariate: WAR\n",
    "--- "
   ]
  },
  {
   "cell_type": "code",
   "execution_count": 39,
   "metadata": {
    "collapsed": false
   },
   "outputs": [],
   "source": [
    "# set params for model, use 30% of data for test set\n",
    "X_train, X_test, y_train, y_test = train_test_split(war, wins, test_size=0.3, random_state=101)"
   ]
  },
  {
   "cell_type": "code",
   "execution_count": 44,
   "metadata": {
    "collapsed": false
   },
   "outputs": [
    {
     "data": {
      "text/plain": [
       "True"
      ]
     },
     "execution_count": 44,
     "metadata": {},
     "output_type": "execute_result"
    }
   ],
   "source": [
    "len(war) == len(wins)"
   ]
  },
  {
   "cell_type": "code",
   "execution_count": 45,
   "metadata": {
    "collapsed": false
   },
   "outputs": [
    {
     "data": {
      "text/plain": [
       "LinearRegression(copy_X=True, fit_intercept=True, n_jobs=1, normalize=False)"
      ]
     },
     "execution_count": 45,
     "metadata": {},
     "output_type": "execute_result"
    }
   ],
   "source": [
    "# train model\n",
    "lm = LinearRegression()\n",
    "# lm.fit(X_train,y_train)\n",
    "lm.fit(X_train.reshape(-1,1),y_train)"
   ]
  },
  {
   "cell_type": "code",
   "execution_count": 46,
   "metadata": {
    "collapsed": true
   },
   "outputs": [],
   "source": [
    "# predictions = lm.predict(X_test)\n",
    "predictions = lm.predict(X_test.reshape(-1,1))"
   ]
  },
  {
   "cell_type": "code",
   "execution_count": 47,
   "metadata": {
    "collapsed": false
   },
   "outputs": [
    {
     "data": {
      "text/plain": [
       "<matplotlib.text.Text at 0x11a395b50>"
      ]
     },
     "execution_count": 47,
     "metadata": {},
     "output_type": "execute_result"
    },
    {
     "data": {
      "image/png": "[encoded data removed]",
      "text/plain": [
       "<matplotlib.figure.Figure at 0x11a3eb5d0>"
      ]
     },
     "metadata": {},
     "output_type": "display_data"
    }
   ],
   "source": [
    "# view scatter plot of predictions vs. actual values\n",
    "plt.scatter(y_test,predictions)\n",
    "plt.xlabel('Y Test')\n",
    "plt.ylabel('Predicted Y')"
   ]
  },
  {
   "cell_type": "code",
   "execution_count": 49,
   "metadata": {
    "collapsed": false
   },
   "outputs": [
    {
     "name": "stdout",
     "output_type": "stream",
     "text": [
      "('MAE:', 6.0043785485185959)\n",
      "('MSE:', 58.797435099323721)\n",
      "('RMSE:', 7.6679485587296243)\n",
      "('R^2:', 0.73175873606160236)\n"
     ]
    }
   ],
   "source": [
    "# view model metrics\n",
    "\n",
    "print('MAE:', metrics.mean_absolute_error(y_test, predictions))\n",
    "print('MSE:', metrics.mean_squared_error(y_test, predictions))\n",
    "print('RMSE:', np.sqrt(metrics.mean_squared_error(y_test, predictions)))\n",
    "print('R^2:', np.sqrt(metrics.r2_score(y_test, predictions)))"
   ]
  },
  {
   "cell_type": "code",
   "execution_count": 58,
   "metadata": {
    "collapsed": false
   },
   "outputs": [
    {
     "name": "stderr",
     "output_type": "stream",
     "text": [
      "/anaconda/lib/python2.7/site-packages/ipykernel/__main__.py:5: FutureWarning: sort(columns=....) is deprecated, use sort_values(by=.....)\n"
     ]
    },
    {
     "data": {
      "text/html": [
       "<div>\n",
       "<table border=\"1\" class=\"dataframe\">\n",
       "  <thead>\n",
       "    <tr style=\"text-align: right;\">\n",
       "      <th></th>\n",
       "      <th>Coefficient</th>\n",
       "    </tr>\n",
       "  </thead>\n",
       "  <tbody>\n",
       "    <tr>\n",
       "      <th>war</th>\n",
       "      <td>1.11418</td>\n",
       "    </tr>\n",
       "  </tbody>\n",
       "</table>\n",
       "</div>"
      ],
      "text/plain": [
       "     Coefficient\n",
       "war      1.11418"
      ]
     },
     "execution_count": 58,
     "metadata": {},
     "output_type": "execute_result"
    }
   ],
   "source": [
    "# view coefficients table\n",
    "# interpretation of table: 1-unit increase in variable in column 1 corresponds with \n",
    "coefficients = pd.DataFrame(lm.coef_,index=['war'])\n",
    "coefficients.columns = ['Coefficient']\n",
    "coefficients.sort('Coefficient',ascending=False)"
   ]
  },
  {
   "cell_type": "code",
   "execution_count": null,
   "metadata": {
    "collapsed": true
   },
   "outputs": [],
   "source": []
  }
 ],
 "metadata": {
  "anaconda-cloud": {},
  "kernelspec": {
   "display_name": "Python [conda root]",
   "language": "python",
   "name": "conda-root-py"
  },
  "language_info": {
   "codemirror_mode": {
    "name": "ipython",
    "version": 2
   },
   "file_extension": ".py",
   "mimetype": "text/x-python",
   "name": "python",
   "nbconvert_exporter": "python",
   "pygments_lexer": "ipython2",
   "version": "2.7.12"
  }
 },
 "nbformat": 4,
 "nbformat_minor": 1
}
