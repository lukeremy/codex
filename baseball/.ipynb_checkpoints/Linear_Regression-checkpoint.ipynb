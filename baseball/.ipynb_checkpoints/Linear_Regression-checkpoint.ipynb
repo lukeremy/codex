{
 "cells": [
  {
   "cell_type": "markdown",
   "metadata": {},
   "source": [
    "# Linear Regression\n",
    "\n",
    "\n",
    "> _\"Baseball statistics are like a girl in a bikini. They show a lot, but not everything.\"_   \n",
    "    \n",
    "> <a href=\"http://www.baseball-reference.com/players/h/harrato01.shtml\" target=\"_blank\">- Toby Harrah, former MLB baseball player</a>\n",
    "\n",
    "\n",
    "<div style=\"align: center; text-align:center;\">\n",
    "    <img src=img/scorecard.jpg height=\"300px\" width=\"500px\" />\n",
    "</div>"
   ]
  },
  {
   "cell_type": "markdown",
   "metadata": {},
   "source": [
    "---\n",
    "\n",
    "## Overview\n",
    "\n",
    "The MLB has existed since 1869. Over the ~150 years since then, MLB general managers and statisticians have developed a vast assortment of metrics in an attempt to build baseball rosters with higher chances of succeeding.\n",
    "\n",
    "In this notebook, I demonstrate usage of both univariate and multivariate linear regression (in Python) as a means for predicting specific outcomes -- specifically, __I examine how we can use various baseball metrics to predict the number of wins Major League Baseball (MLB) teams attain over the course of a 162-game season__.   \n",
    "\n",
    "_As a disclaimer, this notebook is intended to demonstrate principles of linear regression in a baseball setting; it is not intended as a rigorous analysis of the ideal predictors to use in constructing a successful baseball team :)_"
   ]
  },
  {
   "cell_type": "markdown",
   "metadata": {},
   "source": [
    "---\n",
    "\n",
    "## Method\n",
    "\n",
    "Linear regression is a common technique used for predicting continuous variables. _Univariate_ linear regression refers to regression models with only one predictor variable, whereas _multivariate_ linear regression refers to regression models with several predictor variables. In this analysis, I will compare several regression models in an attempt to evaluate the relative impact that various baseball metrics have on the number of wins teams attain per season. \n",
    "\n",
    "### Data\n",
    "\n",
    "Data for this analysis include data from the <a href=\"http://www.seanlahman.com/baseball-archive/statistics/\" target=\"_blank\">Lahman database</a> and <a href=\"http://www.fangraphs.com/\" target=\"_blank\">fangraphs.com</a>, and were cleaned and prepared in another notebook; please see [this notebook](INSERT LINK TO NOTEBOOK) for more information on how the variables listed below were collected.\n",
    "\n",
    "In the dataset, each row represents a single team over one season of play. There are 30 MLB teams represented in the dataset ranging 100 years from 1916 - 2015. See below for descriptions of the variables used in this analysis.\n",
    "\n",
    "--- \n",
    "| __Regression Model__        | __Predictor(s)__            | __Outcome__ |\n",
    "| :-------------: |:-------------:| :-----:|\n",
    "| _Univariate1_      | `AVG` | `wins` |\n",
    "| _Multivariate_      | `AVG`, `BB%`, `HR`, `SO%`      |   `wins` |\n",
    "| _Univariate2_ | `WAR`      |    `wins` |\n",
    "\n",
    "--- \n",
    "| __Metric__ | __Definition__ | \n",
    "| :----: | :---- |\n",
    "| `AVG` | batting average; the average number of base hits a team achieved per at bat in a given season (e.g., .300 AVG = 3 hits every 10 at bats) \n",
    "| `BB%` | the percentage of times a team walked per plate appearance in a given season  |\n",
    "| `HR` | the number of home runs a team attained in a given season |  \n",
    "| `SO%` | the percentage of times a team struck out per plate appearance in a given season\n",
    "| `WAR` | team total \"wins above replacement\", a popular <a href=\"http://sabr.org/sabermetrics\" target=\"_blank\">_sabermetric_</a> which represents a player's overall \"value\" with a single number (<a href=\"http://www.fangraphs.com/library/misc/war/\" target=\"_blank\">see formula here</a>) |  \n",
    "| `wins` | the number of wins a team achieved in a single season (MLB has played 162 game seasons since 1962) | "
   ]
  },
  {
   "cell_type": "markdown",
   "metadata": {},
   "source": [
    "--- \n",
    "\n",
    "## Analysis & Code"
   ]
  },
  {
   "cell_type": "markdown",
   "metadata": {},
   "source": [
    "#### Library & data import"
   ]
  },
  {
   "cell_type": "markdown",
   "metadata": {},
   "source": [
    "I used the <a href=\"http://scikit-learn.org/\" target=\"_blank\">`scikit-learn`</a> library for my regression modeling. Import this and other data analysis / visualization libraries first."
   ]
  },
  {
   "cell_type": "code",
   "execution_count": 1,
   "metadata": {
    "collapsed": false
   },
   "outputs": [],
   "source": [
    "import numpy as np\n",
    "import pandas as pd\n",
    "import matplotlib.pyplot as plt\n",
    "import seaborn as sns\n",
    "\n",
    "# allows me to view plots in jupyter notebook\n",
    "%matplotlib inline    "
   ]
  },
  {
   "cell_type": "code",
   "execution_count": 2,
   "metadata": {
    "collapsed": false
   },
   "outputs": [],
   "source": [
    "from sklearn.cross_validation import train_test_split\n",
    "from sklearn.linear_model import LinearRegression\n",
    "from sklearn import metrics"
   ]
  },
  {
   "cell_type": "markdown",
   "metadata": {},
   "source": [
    "Import and examine the data, which was prepared in another [Jupyter notebook](INSERT LINK HERE)."
   ]
  },
  {
   "cell_type": "code",
   "execution_count": 3,
   "metadata": {
    "collapsed": false
   },
   "outputs": [],
   "source": [
    "master = pd.read_csv('data/master_baseball.csv')"
   ]
  },
  {
   "cell_type": "code",
   "execution_count": 4,
   "metadata": {
    "collapsed": false,
    "scrolled": true
   },
   "outputs": [
    {
     "name": "stderr",
     "output_type": "stream",
     "text": [
      "//anaconda/lib/python2.7/site-packages/numpy/lib/function_base.py:3834: RuntimeWarning: Invalid value encountered in percentile\n",
      "  RuntimeWarning)\n"
     ]
    },
    {
     "data": {
      "text/html": [
       "<div>\n",
       "<table border=\"1\" class=\"dataframe\">\n",
       "  <thead>\n",
       "    <tr style=\"text-align: right;\">\n",
       "      <th></th>\n",
       "      <th>Year</th>\n",
       "      <th>off_G</th>\n",
       "      <th>off_PA</th>\n",
       "      <th>off_HR</th>\n",
       "      <th>off_R</th>\n",
       "      <th>off_RBI</th>\n",
       "      <th>off_SB</th>\n",
       "      <th>off_BB%</th>\n",
       "      <th>off_K%</th>\n",
       "      <th>off_ISO</th>\n",
       "      <th>...</th>\n",
       "      <th>def_ARM</th>\n",
       "      <th>def_DPR</th>\n",
       "      <th>def_RngR</th>\n",
       "      <th>def_ErrR</th>\n",
       "      <th>def_UZR</th>\n",
       "      <th>def_UZR/150</th>\n",
       "      <th>def_Def</th>\n",
       "      <th>G</th>\n",
       "      <th>W</th>\n",
       "      <th>L</th>\n",
       "    </tr>\n",
       "  </thead>\n",
       "  <tbody>\n",
       "    <tr>\n",
       "      <th>count</th>\n",
       "      <td>2166.000000</td>\n",
       "      <td>2166.000000</td>\n",
       "      <td>2166.000000</td>\n",
       "      <td>2166.000000</td>\n",
       "      <td>2166.000000</td>\n",
       "      <td>2166.000000</td>\n",
       "      <td>2166.000000</td>\n",
       "      <td>2166.000000</td>\n",
       "      <td>2166.000000</td>\n",
       "      <td>2166.000000</td>\n",
       "      <td>...</td>\n",
       "      <td>420.000000</td>\n",
       "      <td>420.000000</td>\n",
       "      <td>420.000000</td>\n",
       "      <td>420.000000</td>\n",
       "      <td>420.000000</td>\n",
       "      <td>420.000000</td>\n",
       "      <td>420.000000</td>\n",
       "      <td>2166.000000</td>\n",
       "      <td>2166.000000</td>\n",
       "      <td>2166.000000</td>\n",
       "    </tr>\n",
       "    <tr>\n",
       "      <th>mean</th>\n",
       "      <td>1972.686981</td>\n",
       "      <td>1963.427054</td>\n",
       "      <td>6044.280240</td>\n",
       "      <td>123.977378</td>\n",
       "      <td>699.712373</td>\n",
       "      <td>654.054940</td>\n",
       "      <td>90.286242</td>\n",
       "      <td>0.085144</td>\n",
       "      <td>0.135631</td>\n",
       "      <td>0.130229</td>\n",
       "      <td>...</td>\n",
       "      <td>-0.002381</td>\n",
       "      <td>0.015476</td>\n",
       "      <td>0.001905</td>\n",
       "      <td>0.009524</td>\n",
       "      <td>0.021905</td>\n",
       "      <td>0.034286</td>\n",
       "      <td>-0.061429</td>\n",
       "      <td>157.506925</td>\n",
       "      <td>78.542475</td>\n",
       "      <td>78.542475</td>\n",
       "    </tr>\n",
       "    <tr>\n",
       "      <th>std</th>\n",
       "      <td>28.583509</td>\n",
       "      <td>265.951950</td>\n",
       "      <td>363.811507</td>\n",
       "      <td>50.209298</td>\n",
       "      <td>105.352933</td>\n",
       "      <td>104.178649</td>\n",
       "      <td>42.212902</td>\n",
       "      <td>0.011955</td>\n",
       "      <td>0.039281</td>\n",
       "      <td>0.026783</td>\n",
       "      <td>...</td>\n",
       "      <td>7.822115</td>\n",
       "      <td>3.871279</td>\n",
       "      <td>29.175432</td>\n",
       "      <td>8.060150</td>\n",
       "      <td>32.377808</td>\n",
       "      <td>5.011620</td>\n",
       "      <td>33.937258</td>\n",
       "      <td>9.075648</td>\n",
       "      <td>13.191599</td>\n",
       "      <td>13.113496</td>\n",
       "    </tr>\n",
       "    <tr>\n",
       "      <th>min</th>\n",
       "      <td>1916.000000</td>\n",
       "      <td>1089.000000</td>\n",
       "      <td>3886.000000</td>\n",
       "      <td>4.000000</td>\n",
       "      <td>329.000000</td>\n",
       "      <td>303.000000</td>\n",
       "      <td>13.000000</td>\n",
       "      <td>0.046000</td>\n",
       "      <td>0.053000</td>\n",
       "      <td>0.059000</td>\n",
       "      <td>...</td>\n",
       "      <td>-22.900000</td>\n",
       "      <td>-9.100000</td>\n",
       "      <td>-136.000000</td>\n",
       "      <td>-23.200000</td>\n",
       "      <td>-141.700000</td>\n",
       "      <td>-19.200000</td>\n",
       "      <td>-147.700000</td>\n",
       "      <td>103.000000</td>\n",
       "      <td>36.000000</td>\n",
       "      <td>40.000000</td>\n",
       "    </tr>\n",
       "    <tr>\n",
       "      <th>25%</th>\n",
       "      <td>1949.000000</td>\n",
       "      <td>1753.000000</td>\n",
       "      <td>5972.000000</td>\n",
       "      <td>92.000000</td>\n",
       "      <td>634.000000</td>\n",
       "      <td>591.250000</td>\n",
       "      <td>59.000000</td>\n",
       "      <td>0.077000</td>\n",
       "      <td>0.102000</td>\n",
       "      <td>0.111000</td>\n",
       "      <td>...</td>\n",
       "      <td>NaN</td>\n",
       "      <td>NaN</td>\n",
       "      <td>NaN</td>\n",
       "      <td>NaN</td>\n",
       "      <td>NaN</td>\n",
       "      <td>NaN</td>\n",
       "      <td>NaN</td>\n",
       "      <td>155.000000</td>\n",
       "      <td>70.000000</td>\n",
       "      <td>69.000000</td>\n",
       "    </tr>\n",
       "    <tr>\n",
       "      <th>50%</th>\n",
       "      <td>1977.000000</td>\n",
       "      <td>1949.500000</td>\n",
       "      <td>6119.000000</td>\n",
       "      <td>125.000000</td>\n",
       "      <td>699.000000</td>\n",
       "      <td>655.000000</td>\n",
       "      <td>84.000000</td>\n",
       "      <td>0.084000</td>\n",
       "      <td>0.141000</td>\n",
       "      <td>0.130000</td>\n",
       "      <td>...</td>\n",
       "      <td>NaN</td>\n",
       "      <td>NaN</td>\n",
       "      <td>NaN</td>\n",
       "      <td>NaN</td>\n",
       "      <td>NaN</td>\n",
       "      <td>NaN</td>\n",
       "      <td>NaN</td>\n",
       "      <td>162.000000</td>\n",
       "      <td>79.000000</td>\n",
       "      <td>78.000000</td>\n",
       "    </tr>\n",
       "    <tr>\n",
       "      <th>75%</th>\n",
       "      <td>1997.000000</td>\n",
       "      <td>2202.750000</td>\n",
       "      <td>6224.000000</td>\n",
       "      <td>159.000000</td>\n",
       "      <td>765.000000</td>\n",
       "      <td>718.000000</td>\n",
       "      <td>116.000000</td>\n",
       "      <td>0.093000</td>\n",
       "      <td>0.164000</td>\n",
       "      <td>0.149000</td>\n",
       "      <td>...</td>\n",
       "      <td>NaN</td>\n",
       "      <td>NaN</td>\n",
       "      <td>NaN</td>\n",
       "      <td>NaN</td>\n",
       "      <td>NaN</td>\n",
       "      <td>NaN</td>\n",
       "      <td>NaN</td>\n",
       "      <td>162.000000</td>\n",
       "      <td>88.000000</td>\n",
       "      <td>88.000000</td>\n",
       "    </tr>\n",
       "    <tr>\n",
       "      <th>max</th>\n",
       "      <td>2015.000000</td>\n",
       "      <td>2528.000000</td>\n",
       "      <td>6554.000000</td>\n",
       "      <td>264.000000</td>\n",
       "      <td>1067.000000</td>\n",
       "      <td>997.000000</td>\n",
       "      <td>341.000000</td>\n",
       "      <td>0.134000</td>\n",
       "      <td>0.255000</td>\n",
       "      <td>0.206000</td>\n",
       "      <td>...</td>\n",
       "      <td>27.000000</td>\n",
       "      <td>10.900000</td>\n",
       "      <td>92.300000</td>\n",
       "      <td>21.000000</td>\n",
       "      <td>86.000000</td>\n",
       "      <td>14.300000</td>\n",
       "      <td>96.900000</td>\n",
       "      <td>165.000000</td>\n",
       "      <td>116.000000</td>\n",
       "      <td>120.000000</td>\n",
       "    </tr>\n",
       "  </tbody>\n",
       "</table>\n",
       "<p>8 rows × 62 columns</p>\n",
       "</div>"
      ],
      "text/plain": [
       "              Year        off_G       off_PA       off_HR        off_R  \\\n",
       "count  2166.000000  2166.000000  2166.000000  2166.000000  2166.000000   \n",
       "mean   1972.686981  1963.427054  6044.280240   123.977378   699.712373   \n",
       "std      28.583509   265.951950   363.811507    50.209298   105.352933   \n",
       "min    1916.000000  1089.000000  3886.000000     4.000000   329.000000   \n",
       "25%    1949.000000  1753.000000  5972.000000    92.000000   634.000000   \n",
       "50%    1977.000000  1949.500000  6119.000000   125.000000   699.000000   \n",
       "75%    1997.000000  2202.750000  6224.000000   159.000000   765.000000   \n",
       "max    2015.000000  2528.000000  6554.000000   264.000000  1067.000000   \n",
       "\n",
       "           off_RBI       off_SB      off_BB%       off_K%      off_ISO  \\\n",
       "count  2166.000000  2166.000000  2166.000000  2166.000000  2166.000000   \n",
       "mean    654.054940    90.286242     0.085144     0.135631     0.130229   \n",
       "std     104.178649    42.212902     0.011955     0.039281     0.026783   \n",
       "min     303.000000    13.000000     0.046000     0.053000     0.059000   \n",
       "25%     591.250000    59.000000     0.077000     0.102000     0.111000   \n",
       "50%     655.000000    84.000000     0.084000     0.141000     0.130000   \n",
       "75%     718.000000   116.000000     0.093000     0.164000     0.149000   \n",
       "max     997.000000   341.000000     0.134000     0.255000     0.206000   \n",
       "\n",
       "          ...          def_ARM     def_DPR    def_RngR    def_ErrR  \\\n",
       "count     ...       420.000000  420.000000  420.000000  420.000000   \n",
       "mean      ...        -0.002381    0.015476    0.001905    0.009524   \n",
       "std       ...         7.822115    3.871279   29.175432    8.060150   \n",
       "min       ...       -22.900000   -9.100000 -136.000000  -23.200000   \n",
       "25%       ...              NaN         NaN         NaN         NaN   \n",
       "50%       ...              NaN         NaN         NaN         NaN   \n",
       "75%       ...              NaN         NaN         NaN         NaN   \n",
       "max       ...        27.000000   10.900000   92.300000   21.000000   \n",
       "\n",
       "          def_UZR  def_UZR/150     def_Def            G            W  \\\n",
       "count  420.000000   420.000000  420.000000  2166.000000  2166.000000   \n",
       "mean     0.021905     0.034286   -0.061429   157.506925    78.542475   \n",
       "std     32.377808     5.011620   33.937258     9.075648    13.191599   \n",
       "min   -141.700000   -19.200000 -147.700000   103.000000    36.000000   \n",
       "25%           NaN          NaN         NaN   155.000000    70.000000   \n",
       "50%           NaN          NaN         NaN   162.000000    79.000000   \n",
       "75%           NaN          NaN         NaN   162.000000    88.000000   \n",
       "max     86.000000    14.300000   96.900000   165.000000   116.000000   \n",
       "\n",
       "                 L  \n",
       "count  2166.000000  \n",
       "mean     78.542475  \n",
       "std      13.113496  \n",
       "min      40.000000  \n",
       "25%      69.000000  \n",
       "50%      78.000000  \n",
       "75%      88.000000  \n",
       "max     120.000000  \n",
       "\n",
       "[8 rows x 62 columns]"
      ]
     },
     "execution_count": 4,
     "metadata": {},
     "output_type": "execute_result"
    }
   ],
   "source": [
    "master.describe()"
   ]
  },
  {
   "cell_type": "code",
   "execution_count": 5,
   "metadata": {
    "collapsed": false
   },
   "outputs": [],
   "source": [
    "# first_year = ###\n",
    "# last_year = ###\n",
    "# master = master[(master['Year'] >= first_year) & (master['Year'] <= last_year)]\n",
    "# master.describe()"
   ]
  },
  {
   "cell_type": "markdown",
   "metadata": {},
   "source": [
    "#### Prepare data\n",
    "\n",
    "Next, I need to prepare my data by separating the predictors and outcome variables for the regression models. I will also rename variables to match the names used in the Method section above."
   ]
  },
  {
   "cell_type": "code",
   "execution_count": 6,
   "metadata": {
    "collapsed": false
   },
   "outputs": [],
   "source": [
    "avg = master['off_AVG']    # univariate1 predictor\n",
    "preds = master[['off_AVG','off_BB%','off_HR','off_K%']]    # multivariate predictors\n",
    "war = master['off_WAR']    # univariate2 predictor\n",
    "wins = master['W']    # outcome variable"
   ]
  },
  {
   "cell_type": "code",
   "execution_count": 7,
   "metadata": {
    "collapsed": false
   },
   "outputs": [
    {
     "data": {
      "text/plain": [
       "Index([u'AVG', u'BB%', u'HR', u'SO%'], dtype='object')"
      ]
     },
     "execution_count": 7,
     "metadata": {},
     "output_type": "execute_result"
    }
   ],
   "source": [
    "preds.columns = ['AVG','BB%','HR','SO%']    # rename variables to match Method\n",
    "preds.columns"
   ]
  },
  {
   "cell_type": "markdown",
   "metadata": {},
   "source": [
    "#### Univariate: AVG\n",
    "\n",
    "First, I will examine batting average as a predictor of wins alone using a univariate regression model. Next, I use tuple unpacking along with `train_test_split` from `scikit-learn` to create a _training_ dataset using 30% of the available data. I will train my linear model on this data before applying the model to the _test_ dataset, the remaining 70% of the data."
   ]
  },
  {
   "cell_type": "code",
   "execution_count": 8,
   "metadata": {
    "collapsed": false
   },
   "outputs": [],
   "source": [
    "# use 30% of data for test set, set random_state for reproducibility\n",
    "X_train, X_test, y_train, y_test = train_test_split(avg, wins, test_size=0.3, random_state=101)"
   ]
  },
  {
   "cell_type": "markdown",
   "metadata": {},
   "source": [
    "Now that I have separate test and training datasets, I can train a linear model on the test data using `LinearRegression()` and `.fit`."
   ]
  },
  {
   "cell_type": "code",
   "execution_count": 9,
   "metadata": {
    "collapsed": false
   },
   "outputs": [
    {
     "data": {
      "text/plain": [
       "LinearRegression(copy_X=True, fit_intercept=True, n_jobs=1, normalize=False)"
      ]
     },
     "execution_count": 9,
     "metadata": {},
     "output_type": "execute_result"
    }
   ],
   "source": [
    "lm = LinearRegression()\n",
    "\n",
    "# use reshape(-1,1) to format data in way acceptable for lm.fit\n",
    "lm.fit(X_train.reshape(-1,1),y_train)"
   ]
  },
  {
   "cell_type": "markdown",
   "metadata": {},
   "source": [
    "Next, I can create an array of predictions for the outcome variable `wins` in the test dataset based on the `lm` regression model I just created. If my regression model is a perfect fit to the data, there will be no difference between my predicted `wins` values and the actual `wins` values."
   ]
  },
  {
   "cell_type": "code",
   "execution_count": 10,
   "metadata": {
    "collapsed": true
   },
   "outputs": [],
   "source": [
    "# predictions = lm.predict(X_test)\n",
    "predictions = lm.predict(X_test.reshape(-1,1))"
   ]
  },
  {
   "cell_type": "code",
   "execution_count": 11,
   "metadata": {
    "collapsed": false
   },
   "outputs": [
    {
     "data": {
      "text/plain": [
       "<matplotlib.text.Text at 0x117aca210>"
      ]
     },
     "execution_count": 11,
     "metadata": {},
     "output_type": "execute_result"
    },
    {
     "data": {
      "image/png": "[encoded data removed]",
      "text/plain": [
       "<matplotlib.figure.Figure at 0x117a82790>"
      ]
     },
     "metadata": {},
     "output_type": "display_data"
    }
   ],
   "source": [
    "# view scatter plot of predictions vs. actual values\n",
    "plt.scatter(y_test,predictions)\n",
    "plt.title('Test data - Univariate regression model')\n",
    "plt.xlabel('Actual outcome values')\n",
    "plt.ylabel('Predicted outcome values')"
   ]
  },
  {
   "cell_type": "code",
   "execution_count": 12,
   "metadata": {
    "collapsed": false
   },
   "outputs": [
    {
     "name": "stdout",
     "output_type": "stream",
     "text": [
      "('MAE:', 10.270734840214262)\n",
      "('MSE:', 161.34400410286122)\n",
      "('RMSE:', 12.702125967839448)\n",
      "('R^2:', 0.31377369976282116)\n"
     ]
    }
   ],
   "source": [
    "# view model metrics\n",
    "\n",
    "print('MAE:', metrics.mean_absolute_error(y_test, predictions))\n",
    "print('MSE:', metrics.mean_squared_error(y_test, predictions))\n",
    "print('RMSE:', np.sqrt(metrics.mean_squared_error(y_test, predictions)))\n",
    "print('R^2:', np.sqrt(metrics.r2_score(y_test, predictions)))"
   ]
  },
  {
   "cell_type": "code",
   "execution_count": 13,
   "metadata": {
    "collapsed": false
   },
   "outputs": [
    {
     "name": "stderr",
     "output_type": "stream",
     "text": [
      "/anaconda/lib/python2.7/site-packages/ipykernel/__main__.py:5: FutureWarning: sort(columns=....) is deprecated, use sort_values(by=.....)\n"
     ]
    },
    {
     "data": {
      "text/html": [
       "<div>\n",
       "<table border=\"1\" class=\"dataframe\">\n",
       "  <thead>\n",
       "    <tr style=\"text-align: right;\">\n",
       "      <th></th>\n",
       "      <th>Coefficient</th>\n",
       "    </tr>\n",
       "  </thead>\n",
       "  <tbody>\n",
       "    <tr>\n",
       "      <th>AVG</th>\n",
       "      <td>271.885121</td>\n",
       "    </tr>\n",
       "  </tbody>\n",
       "</table>\n",
       "</div>"
      ],
      "text/plain": [
       "     Coefficient\n",
       "AVG   271.885121"
      ]
     },
     "execution_count": 13,
     "metadata": {},
     "output_type": "execute_result"
    }
   ],
   "source": [
    "# view coefficients table\n",
    "# interpretation of table: 1-unit increase in variable in column 1 corresponds with \n",
    "coefficients = pd.DataFrame(lm.coef_,index=['AVG'])\n",
    "coefficients.columns = ['Coefficient']\n",
    "coefficients.sort('Coefficient',ascending=False)"
   ]
  },
  {
   "cell_type": "markdown",
   "metadata": {},
   "source": [
    "#### Multivariate: AVG, HR, SO, BB\n",
    "\n",
    "--- "
   ]
  },
  {
   "cell_type": "code",
   "execution_count": 16,
   "metadata": {
    "collapsed": true
   },
   "outputs": [],
   "source": [
    "# set params for model, use 30% of data for test set\n",
    "X_train, X_test, y_train, y_test = train_test_split(preds, wins, test_size=0.3, random_state=101)"
   ]
  },
  {
   "cell_type": "code",
   "execution_count": 17,
   "metadata": {
    "collapsed": false
   },
   "outputs": [
    {
     "data": {
      "text/html": [
       "<div>\n",
       "<table border=\"1\" class=\"dataframe\">\n",
       "  <thead>\n",
       "    <tr style=\"text-align: right;\">\n",
       "      <th></th>\n",
       "      <th>AVG</th>\n",
       "      <th>BB%</th>\n",
       "      <th>HR</th>\n",
       "      <th>SO%</th>\n",
       "    </tr>\n",
       "  </thead>\n",
       "  <tbody>\n",
       "    <tr>\n",
       "      <th>0</th>\n",
       "      <td>0.307</td>\n",
       "      <td>0.103</td>\n",
       "      <td>158</td>\n",
       "      <td>0.098</td>\n",
       "    </tr>\n",
       "    <tr>\n",
       "      <th>1</th>\n",
       "      <td>0.280</td>\n",
       "      <td>0.104</td>\n",
       "      <td>141</td>\n",
       "      <td>0.138</td>\n",
       "    </tr>\n",
       "    <tr>\n",
       "      <th>2</th>\n",
       "      <td>0.297</td>\n",
       "      <td>0.116</td>\n",
       "      <td>155</td>\n",
       "      <td>0.086</td>\n",
       "    </tr>\n",
       "    <tr>\n",
       "      <th>3</th>\n",
       "      <td>0.287</td>\n",
       "      <td>0.114</td>\n",
       "      <td>166</td>\n",
       "      <td>0.089</td>\n",
       "    </tr>\n",
       "    <tr>\n",
       "      <th>4</th>\n",
       "      <td>0.265</td>\n",
       "      <td>0.100</td>\n",
       "      <td>175</td>\n",
       "      <td>0.127</td>\n",
       "    </tr>\n",
       "  </tbody>\n",
       "</table>\n",
       "</div>"
      ],
      "text/plain": [
       "     AVG    BB%   HR    SO%\n",
       "0  0.307  0.103  158  0.098\n",
       "1  0.280  0.104  141  0.138\n",
       "2  0.297  0.116  155  0.086\n",
       "3  0.287  0.114  166  0.089\n",
       "4  0.265  0.100  175  0.127"
      ]
     },
     "execution_count": 17,
     "metadata": {},
     "output_type": "execute_result"
    }
   ],
   "source": [
    "preds.head()"
   ]
  },
  {
   "cell_type": "code",
   "execution_count": 18,
   "metadata": {
    "collapsed": false
   },
   "outputs": [
    {
     "data": {
      "text/plain": [
       "LinearRegression(copy_X=True, fit_intercept=True, n_jobs=1, normalize=False)"
      ]
     },
     "execution_count": 18,
     "metadata": {},
     "output_type": "execute_result"
    }
   ],
   "source": [
    "# train model\n",
    "lm = LinearRegression()\n",
    "# lm.fit(X_train,y_train)\n",
    "lm.fit(X_train,y_train)"
   ]
  },
  {
   "cell_type": "code",
   "execution_count": 19,
   "metadata": {
    "collapsed": false
   },
   "outputs": [],
   "source": [
    "# predictions = lm.predict(X_test)\n",
    "predictions = lm.predict(X_test)"
   ]
  },
  {
   "cell_type": "code",
   "execution_count": 20,
   "metadata": {
    "collapsed": false
   },
   "outputs": [
    {
     "data": {
      "text/plain": [
       "<matplotlib.text.Text at 0x11a57dbd0>"
      ]
     },
     "execution_count": 20,
     "metadata": {},
     "output_type": "execute_result"
    },
    {
     "data": {
      "image/png": "[encoded data removed]",
      "text/plain": [
       "<matplotlib.figure.Figure at 0x11a52f790>"
      ]
     },
     "metadata": {},
     "output_type": "display_data"
    }
   ],
   "source": [
    "# view scatter plot of predictions vs. actual values\n",
    "plt.scatter(y_test,predictions)\n",
    "plt.xlabel('Y Test')\n",
    "plt.ylabel('Predicted Y')"
   ]
  },
  {
   "cell_type": "code",
   "execution_count": 22,
   "metadata": {
    "collapsed": false
   },
   "outputs": [
    {
     "name": "stdout",
     "output_type": "stream",
     "text": [
      "('MAE:', 9.1740456920554401)\n",
      "('MSE:', 129.30531664774512)\n",
      "('RMSE:', 11.371249564042868)\n",
      "('R^2:', 0.52676117674482947)\n"
     ]
    }
   ],
   "source": [
    "# view model metrics\n",
    "\n",
    "# metrics = \n",
    "\n",
    "print('MAE:', metrics.mean_absolute_error(y_test, predictions))\n",
    "print('MSE:', metrics.mean_squared_error(y_test, predictions))\n",
    "print('RMSE:', np.sqrt(metrics.mean_squared_error(y_test, predictions)))\n",
    "print('R^2:', np.sqrt(metrics.r2_score(y_test, predictions)))"
   ]
  },
  {
   "cell_type": "code",
   "execution_count": 23,
   "metadata": {
    "collapsed": false
   },
   "outputs": [
    {
     "data": {
      "text/plain": [
       "<matplotlib.axes._subplots.AxesSubplot at 0x11a70fe90>"
      ]
     },
     "execution_count": 23,
     "metadata": {},
     "output_type": "execute_result"
    },
    {
     "data": {
      "image/png": "[encoded data removed]",
      "text/plain": [
       "<matplotlib.figure.Figure at 0x11a74a690>"
      ]
     },
     "metadata": {},
     "output_type": "display_data"
    }
   ],
   "source": [
    "# plot residuals, should approximate normal distribution\n",
    "sns.distplot((y_test-predictions),bins=50)"
   ]
  },
  {
   "cell_type": "code",
   "execution_count": 24,
   "metadata": {
    "collapsed": false
   },
   "outputs": [
    {
     "name": "stderr",
     "output_type": "stream",
     "text": [
      "/anaconda/lib/python2.7/site-packages/ipykernel/__main__.py:5: FutureWarning: sort(columns=....) is deprecated, use sort_values(by=.....)\n"
     ]
    },
    {
     "data": {
      "text/html": [
       "<div>\n",
       "<table border=\"1\" class=\"dataframe\">\n",
       "  <thead>\n",
       "    <tr style=\"text-align: right;\">\n",
       "      <th></th>\n",
       "      <th>Coefficient</th>\n",
       "    </tr>\n",
       "  </thead>\n",
       "  <tbody>\n",
       "    <tr>\n",
       "      <th>AVG</th>\n",
       "      <td>220.396304</td>\n",
       "    </tr>\n",
       "    <tr>\n",
       "      <th>BB%</th>\n",
       "      <td>190.243574</td>\n",
       "    </tr>\n",
       "    <tr>\n",
       "      <th>HR</th>\n",
       "      <td>0.092984</td>\n",
       "    </tr>\n",
       "    <tr>\n",
       "      <th>SO%</th>\n",
       "      <td>-27.091992</td>\n",
       "    </tr>\n",
       "  </tbody>\n",
       "</table>\n",
       "</div>"
      ],
      "text/plain": [
       "     Coefficient\n",
       "AVG   220.396304\n",
       "BB%   190.243574\n",
       "HR      0.092984\n",
       "SO%   -27.091992"
      ]
     },
     "execution_count": 24,
     "metadata": {},
     "output_type": "execute_result"
    }
   ],
   "source": [
    "# view coefficients table\n",
    "# interpretation of table: 1-unit increase in variable in column 1 corresponds with \n",
    "coefficients = pd.DataFrame(lm.coef_,preds.columns)\n",
    "coefficients.columns = ['Coefficient']\n",
    "coefficients.sort('Coefficient',ascending=False)"
   ]
  },
  {
   "cell_type": "markdown",
   "metadata": {},
   "source": [
    "# To-do"
   ]
  },
  {
   "cell_type": "markdown",
   "metadata": {},
   "source": [
    "[sklearn.feature_selection.RFE: Feature ranking with recursive feature elimination](http://scikit-learn.org/stable/modules/generated/sklearn.feature_selection.RFE.html)  \n",
    "[Feature Selection in Python with Scikit-Learn](http://machinelearningmastery.com/feature-selection-in-python-with-scikit-learn/)  \n",
    "[OLS with statsmodels](http://statsmodels.sourceforge.net/devel/examples/generated/example_ols.html)  \n",
    "[The classes in the sklearn.feature_selection module can be used for feature selection/dimensionality reduction on sample sets, either to improve estimators’ accuracy scores or to boost their performance on very high-dimensional datasets.](http://scikit-learn.org/stable/modules/feature_selection.html)  \n",
    "[scikitlearn generalized linear model](http://scikit-learn.org/stable/modules/linear_model.html)  \n",
    "[sklearn.feature_selection.f_regression(X, y, center=True)[source]](http://scikit-learn.org/stable/modules/generated/sklearn.feature_selection.f_regression.html)  \n",
    "[Stack Overflow: stepwise regression in python](http://stackoverflow.com/questions/15433372/stepwise-regression-in-python)  \n"
   ]
  },
  {
   "cell_type": "markdown",
   "metadata": {
    "collapsed": true
   },
   "source": [
    "--- \n",
    "## Appendix"
   ]
  },
  {
   "cell_type": "markdown",
   "metadata": {},
   "source": [
    "### Links \n",
    "<a href=\"https://en.wikipedia.org/wiki/Glossary_of_baseball_(0%E2%80%939)#5-tool_player\" target=\"_blank\">5 tool baseball player: wikipedia.com</a>\n",
    "\n",
    "<a href=\"http://www.performancebaseball.net/html/5tools.html\" target=\"_blank\">5 tool baseball player: performancebaseball.net</a>\n",
    "\n",
    "<a href=\"http://fivethirtyeight.com/features/the-toolsiest-player-of-them-all/\" target=\"_blank\">'Toolsiest player of them all': 538.com</a>\n",
    "\n",
    "<a href=\"http://www.baseball-reference.com/about/war_explained.shtml\" target=\"_blank\">Baseball Reference WAR</a>\n",
    "\n",
    "<a href=\"http://www.fangraphs.com/library/misc/war/\" target=\"_blank\">Fangraphs WAR</a>\n",
    "\n",
    "<a href=\"https://en.wikipedia.org/wiki/Wins_Above_Replacement\" target=\"_blank\">Wikipedia WAR</a>\n",
    "\n",
    "<a href=\"http://www.espn.com/blog/sweetspot/post/_/id/27050/what-we-talk-about-when-we-talk-about-war\" target=\"_blank\">ESPN WAR</a>"
   ]
  },
  {
   "cell_type": "markdown",
   "metadata": {
    "collapsed": true
   },
   "source": [
    "\n",
    "<div style=\"align: center; text-align:center;\">\n",
    "    <img src=img/kengriffey.png height=\"400px\" width=\"400px\" />\n",
    "    <div class=\"caption\" >_Ken Griffey Jr: The Ultimate 5-Tool Player_</div>\n",
    "</div>\n",
    "\n"
   ]
  },
  {
   "cell_type": "code",
   "execution_count": null,
   "metadata": {
    "collapsed": true
   },
   "outputs": [],
   "source": []
  }
 ],
 "metadata": {
  "anaconda-cloud": {},
  "kernelspec": {
   "display_name": "Python [conda root]",
   "language": "python",
   "name": "conda-root-py"
  },
  "language_info": {
   "codemirror_mode": {
    "name": "ipython",
    "version": 2
   },
   "file_extension": ".py",
   "mimetype": "text/x-python",
   "name": "python",
   "nbconvert_exporter": "python",
   "pygments_lexer": "ipython2",
   "version": "2.7.12"
  }
 },
 "nbformat": 4,
 "nbformat_minor": 1
}
